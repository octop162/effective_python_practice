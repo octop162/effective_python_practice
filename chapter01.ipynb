{
 "cells": [
  {
   "cell_type": "markdown",
   "source": [
    "## 項目1 使用するPythonのバージョンを知っておく"
   ],
   "metadata": {}
  },
  {
   "cell_type": "code",
   "execution_count": 10,
   "source": [
    "!python --version"
   ],
   "outputs": [
    {
     "output_type": "stream",
     "name": "stdout",
     "text": [
      "Python 3.8.5\n"
     ]
    }
   ],
   "metadata": {}
  },
  {
   "cell_type": "code",
   "execution_count": 11,
   "source": [
    "import sys\r\n",
    "print(sys.version_info)\r\n",
    "print(sys.version)"
   ],
   "outputs": [
    {
     "output_type": "stream",
     "name": "stdout",
     "text": [
      "sys.version_info(major=3, minor=8, micro=5, releaselevel='final', serial=0)\n",
      "3.8.5 (default, Sep  3 2020, 21:29:08) [MSC v.1916 64 bit (AMD64)]\n"
     ]
    }
   ],
   "metadata": {}
  },
  {
   "cell_type": "markdown",
   "source": [
    "## 項目2 PEP8スタイルガイドに従う\r\n",
    "\r\n",
    "以下のスタイルガイドがある。\r\n",
    "\r\n",
    "* 空白\r\n",
    "* 名前付け\r\n",
    "* 式と文\r\n",
    "* インポート"
   ],
   "metadata": {}
  },
  {
   "cell_type": "markdown",
   "source": [
    "## 項目3 bytesとstrの違い"
   ],
   "metadata": {}
  },
  {
   "cell_type": "code",
   "execution_count": 15,
   "source": [
    "a = b'h\\x65llo'\r\n",
    "print(list(a))\r\n",
    "print(a)"
   ],
   "outputs": [
    {
     "output_type": "stream",
     "name": "stdout",
     "text": [
      "[104, 101, 108, 108, 111]\n",
      "b'hello'\n"
     ]
    }
   ],
   "metadata": {}
  },
  {
   "cell_type": "code",
   "execution_count": 18,
   "source": [
    "a = 'a\\u0300 propos'\r\n",
    "print(list(a))\r\n",
    "print(a)"
   ],
   "outputs": [
    {
     "output_type": "stream",
     "name": "stdout",
     "text": [
      "['a', '̀', ' ', 'p', 'r', 'o', 'p', 'o', 's']\n",
      "à propos\n"
     ]
    }
   ],
   "metadata": {}
  },
  {
   "cell_type": "markdown",
   "source": [
    "Unicodeサンドイッチ（strとbytesの違いで処理に誤りがおきるので変換する）"
   ],
   "metadata": {}
  },
  {
   "cell_type": "code",
   "execution_count": 21,
   "source": [
    "def to_str(bytes_or_str):\r\n",
    "    if isinstance(bytes_or_str, bytes):\r\n",
    "        value = bytes_or_str.decode('utf-8')\r\n",
    "    else:\r\n",
    "        value = bytes_or_str\r\n",
    "    return value # str instance\r\n",
    "\r\n",
    "print(repr(to_str(b'foo')))\r\n",
    "print(repr(to_str('bar')))"
   ],
   "outputs": [
    {
     "output_type": "stream",
     "name": "stdout",
     "text": [
      "'foo'\n",
      "'bar'\n"
     ]
    }
   ],
   "metadata": {}
  },
  {
   "cell_type": "code",
   "execution_count": 23,
   "source": [
    "def to_bytes(bytes_or_str):\r\n",
    "    if isinstance(bytes_or_str, str):\r\n",
    "        value = bytes_or_str.encode('utf-8')\r\n",
    "    else:\r\n",
    "        value = bytes_or_str\r\n",
    "    return value # bytes instance\r\n",
    "\r\n",
    "print(repr(to_bytes(b'foo')))\r\n",
    "print(repr(to_bytes('bar')))"
   ],
   "outputs": [
    {
     "output_type": "stream",
     "name": "stdout",
     "text": [
      "b'foo'\n",
      "b'bar'\n"
     ]
    }
   ],
   "metadata": {}
  },
  {
   "cell_type": "markdown",
   "source": [
    "その他の注意\r\n",
    "\r\n",
    "* strとbytesでは同じように扱えない\r\n",
    "  * str、bytes同士は+演算子で結合できる、比較、同値チェックができる\r\n",
    "    * str、bytes間ではできないので注意"
   ],
   "metadata": {}
  },
  {
   "cell_type": "code",
   "execution_count": 2,
   "source": [
    "print(b'one', b'two')\r\n",
    "print('one' + 'two')"
   ],
   "outputs": [
    {
     "output_type": "stream",
     "name": "stdout",
     "text": [
      "b'one' b'two'\n",
      "onetwo\n"
     ]
    }
   ],
   "metadata": {}
  },
  {
   "cell_type": "code",
   "execution_count": 3,
   "source": [
    "b'one' + 'two'"
   ],
   "outputs": [
    {
     "output_type": "error",
     "ename": "TypeError",
     "evalue": "can't concat str to bytes",
     "traceback": [
      "\u001b[1;31m---------------------------------------------------------------------------\u001b[0m",
      "\u001b[1;31mTypeError\u001b[0m                                 Traceback (most recent call last)",
      "\u001b[1;32m<ipython-input-3-f531e85f0fca>\u001b[0m in \u001b[0;36m<module>\u001b[1;34m\u001b[0m\n\u001b[1;32m----> 1\u001b[1;33m \u001b[1;34mb'one'\u001b[0m \u001b[1;33m+\u001b[0m \u001b[1;34m'two'\u001b[0m\u001b[1;33m\u001b[0m\u001b[1;33m\u001b[0m\u001b[0m\n\u001b[0m",
      "\u001b[1;31mTypeError\u001b[0m: can't concat str to bytes"
     ]
    }
   ],
   "metadata": {}
  },
  {
   "cell_type": "code",
   "execution_count": 4,
   "source": [
    "'one' + b'two'"
   ],
   "outputs": [
    {
     "output_type": "error",
     "ename": "TypeError",
     "evalue": "can only concatenate str (not \"bytes\") to str",
     "traceback": [
      "\u001b[1;31m---------------------------------------------------------------------------\u001b[0m",
      "\u001b[1;31mTypeError\u001b[0m                                 Traceback (most recent call last)",
      "\u001b[1;32m<ipython-input-4-4bf1340b6409>\u001b[0m in \u001b[0;36m<module>\u001b[1;34m\u001b[0m\n\u001b[1;32m----> 1\u001b[1;33m \u001b[1;34m'one'\u001b[0m \u001b[1;33m+\u001b[0m \u001b[1;34mb'two'\u001b[0m\u001b[1;33m\u001b[0m\u001b[1;33m\u001b[0m\u001b[0m\n\u001b[0m",
      "\u001b[1;31mTypeError\u001b[0m: can only concatenate str (not \"bytes\") to str"
     ]
    }
   ],
   "metadata": {}
  },
  {
   "cell_type": "code",
   "execution_count": 6,
   "source": [
    "assert b'red' > b'blue'\r\n",
    "assert 'red' > 'blue'"
   ],
   "outputs": [],
   "metadata": {}
  },
  {
   "cell_type": "code",
   "execution_count": 7,
   "source": [
    "assert 'red' > b'blue'"
   ],
   "outputs": [
    {
     "output_type": "error",
     "ename": "TypeError",
     "evalue": "'>' not supported between instances of 'str' and 'bytes'",
     "traceback": [
      "\u001b[1;31m---------------------------------------------------------------------------\u001b[0m",
      "\u001b[1;31mTypeError\u001b[0m                                 Traceback (most recent call last)",
      "\u001b[1;32m<ipython-input-7-51b54d0b93a4>\u001b[0m in \u001b[0;36m<module>\u001b[1;34m\u001b[0m\n\u001b[1;32m----> 1\u001b[1;33m \u001b[1;32massert\u001b[0m \u001b[1;34m'red'\u001b[0m \u001b[1;33m>\u001b[0m \u001b[1;34mb'blue'\u001b[0m\u001b[1;33m\u001b[0m\u001b[1;33m\u001b[0m\u001b[0m\n\u001b[0m",
      "\u001b[1;31mTypeError\u001b[0m: '>' not supported between instances of 'str' and 'bytes'"
     ]
    }
   ],
   "metadata": {}
  },
  {
   "cell_type": "code",
   "execution_count": 9,
   "source": [
    "assert b'blue' < 'red'"
   ],
   "outputs": [
    {
     "output_type": "error",
     "ename": "TypeError",
     "evalue": "'<' not supported between instances of 'bytes' and 'str'",
     "traceback": [
      "\u001b[1;31m---------------------------------------------------------------------------\u001b[0m",
      "\u001b[1;31mTypeError\u001b[0m                                 Traceback (most recent call last)",
      "\u001b[1;32m<ipython-input-9-fa081c15c05c>\u001b[0m in \u001b[0;36m<module>\u001b[1;34m\u001b[0m\n\u001b[1;32m----> 1\u001b[1;33m \u001b[1;32massert\u001b[0m \u001b[1;34mb'blue'\u001b[0m \u001b[1;33m<\u001b[0m \u001b[1;34m'red'\u001b[0m\u001b[1;33m\u001b[0m\u001b[1;33m\u001b[0m\u001b[0m\n\u001b[0m",
      "\u001b[1;31mTypeError\u001b[0m: '<' not supported between instances of 'bytes' and 'str'"
     ]
    }
   ],
   "metadata": {}
  },
  {
   "cell_type": "code",
   "execution_count": 10,
   "source": [
    "print(b'foo' == 'foo')"
   ],
   "outputs": [
    {
     "output_type": "stream",
     "name": "stdout",
     "text": [
      "False\n"
     ]
    }
   ],
   "metadata": {}
  },
  {
   "cell_type": "code",
   "execution_count": 11,
   "source": [
    "print(b'red %s' % b'blue')\r\n",
    "print('red %s' % 'blue')"
   ],
   "outputs": [
    {
     "output_type": "stream",
     "name": "stdout",
     "text": [
      "b'red blue'\n",
      "red blue\n"
     ]
    }
   ],
   "metadata": {}
  },
  {
   "cell_type": "code",
   "execution_count": 12,
   "source": [
    "print(b'red %s' % 'blue')"
   ],
   "outputs": [
    {
     "output_type": "error",
     "ename": "TypeError",
     "evalue": "%b requires a bytes-like object, or an object that implements __bytes__, not 'str'",
     "traceback": [
      "\u001b[1;31m---------------------------------------------------------------------------\u001b[0m",
      "\u001b[1;31mTypeError\u001b[0m                                 Traceback (most recent call last)",
      "\u001b[1;32m<ipython-input-12-996799a8aced>\u001b[0m in \u001b[0;36m<module>\u001b[1;34m\u001b[0m\n\u001b[1;32m----> 1\u001b[1;33m \u001b[0mprint\u001b[0m\u001b[1;33m(\u001b[0m\u001b[1;34mb'red %s'\u001b[0m \u001b[1;33m%\u001b[0m \u001b[1;34m'blue'\u001b[0m\u001b[1;33m)\u001b[0m\u001b[1;33m\u001b[0m\u001b[1;33m\u001b[0m\u001b[0m\n\u001b[0m",
      "\u001b[1;31mTypeError\u001b[0m: %b requires a bytes-like object, or an object that implements __bytes__, not 'str'"
     ]
    }
   ],
   "metadata": {}
  },
  {
   "cell_type": "code",
   "execution_count": 14,
   "source": [
    "# bytesの__repr__によって b'blue' がそのまま表示される\r\n",
    "print('red %s' % b'blue')"
   ],
   "outputs": [
    {
     "output_type": "stream",
     "name": "stdout",
     "text": [
      "red b'blue'\n"
     ]
    }
   ],
   "metadata": {}
  },
  {
   "cell_type": "markdown",
   "source": [
    "ファイル書き込み（バイナリ、文字列の出力）"
   ],
   "metadata": {}
  },
  {
   "cell_type": "code",
   "execution_count": 27,
   "source": [
    "with open('chapter01/random.bin', 'w') as f:\r\n",
    "    f.write(b'\\xf1\\xf2\\xf3\\xf4\\xf5')"
   ],
   "outputs": [
    {
     "output_type": "error",
     "ename": "TypeError",
     "evalue": "write() argument must be str, not bytes",
     "traceback": [
      "\u001b[1;31m---------------------------------------------------------------------------\u001b[0m",
      "\u001b[1;31mTypeError\u001b[0m                                 Traceback (most recent call last)",
      "\u001b[1;32m<ipython-input-27-e901ec028e54>\u001b[0m in \u001b[0;36m<module>\u001b[1;34m\u001b[0m\n\u001b[0;32m      1\u001b[0m \u001b[1;32mwith\u001b[0m \u001b[0mopen\u001b[0m\u001b[1;33m(\u001b[0m\u001b[1;34m'chapter01/random.bin'\u001b[0m\u001b[1;33m,\u001b[0m \u001b[1;34m'w'\u001b[0m\u001b[1;33m)\u001b[0m \u001b[1;32mas\u001b[0m \u001b[0mf\u001b[0m\u001b[1;33m:\u001b[0m\u001b[1;33m\u001b[0m\u001b[1;33m\u001b[0m\u001b[0m\n\u001b[1;32m----> 2\u001b[1;33m     \u001b[0mf\u001b[0m\u001b[1;33m.\u001b[0m\u001b[0mwrite\u001b[0m\u001b[1;33m(\u001b[0m\u001b[1;34mb'\\xf1\\xf2\\xf3\\xf4\\xf5'\u001b[0m\u001b[1;33m)\u001b[0m\u001b[1;33m\u001b[0m\u001b[1;33m\u001b[0m\u001b[0m\n\u001b[0m",
      "\u001b[1;31mTypeError\u001b[0m: write() argument must be str, not bytes"
     ]
    }
   ],
   "metadata": {}
  },
  {
   "cell_type": "code",
   "execution_count": 28,
   "source": [
    "with open('chapter01/random.bin', 'wb') as f:\r\n",
    "    f.write(b'\\xf1\\xf2\\xf3\\xf4\\xf5')"
   ],
   "outputs": [],
   "metadata": {}
  },
  {
   "cell_type": "code",
   "execution_count": 29,
   "source": [
    "with open('chapter01/random.bin', 'r') as f:\r\n",
    "    data = f.read()"
   ],
   "outputs": [
    {
     "output_type": "error",
     "ename": "UnicodeDecodeError",
     "evalue": "'cp932' codec can't decode byte 0xf5 in position 4: incomplete multibyte sequence",
     "traceback": [
      "\u001b[1;31m---------------------------------------------------------------------------\u001b[0m",
      "\u001b[1;31mUnicodeDecodeError\u001b[0m                        Traceback (most recent call last)",
      "\u001b[1;32m<ipython-input-29-3f570dd75c93>\u001b[0m in \u001b[0;36m<module>\u001b[1;34m\u001b[0m\n\u001b[0;32m      1\u001b[0m \u001b[1;32mwith\u001b[0m \u001b[0mopen\u001b[0m\u001b[1;33m(\u001b[0m\u001b[1;34m'chapter01/random.bin'\u001b[0m\u001b[1;33m,\u001b[0m \u001b[1;34m'r'\u001b[0m\u001b[1;33m)\u001b[0m \u001b[1;32mas\u001b[0m \u001b[0mf\u001b[0m\u001b[1;33m:\u001b[0m\u001b[1;33m\u001b[0m\u001b[1;33m\u001b[0m\u001b[0m\n\u001b[1;32m----> 2\u001b[1;33m     \u001b[0mdata\u001b[0m \u001b[1;33m=\u001b[0m \u001b[0mf\u001b[0m\u001b[1;33m.\u001b[0m\u001b[0mread\u001b[0m\u001b[1;33m(\u001b[0m\u001b[1;33m)\u001b[0m\u001b[1;33m\u001b[0m\u001b[1;33m\u001b[0m\u001b[0m\n\u001b[0m",
      "\u001b[1;31mUnicodeDecodeError\u001b[0m: 'cp932' codec can't decode byte 0xf5 in position 4: incomplete multibyte sequence"
     ]
    }
   ],
   "metadata": {}
  },
  {
   "cell_type": "code",
   "execution_count": 30,
   "source": [
    "with open('chapter01/random.bin', 'rb') as f:\r\n",
    "    data = f.read()\r\n",
    "assert data == b'\\xf1\\xf2\\xf3\\xf4\\xf5'"
   ],
   "outputs": [],
   "metadata": {}
  },
  {
   "cell_type": "code",
   "execution_count": 33,
   "source": [
    "with open('chapter01/random.bin', 'r', encoding='cp1252') as f:\r\n",
    "    data = f.read()\r\n",
    "\r\n",
    "assert data == 'ñòóôõ'"
   ],
   "outputs": [],
   "metadata": {}
  },
  {
   "cell_type": "markdown",
   "source": [
    "## 項目4 Cスタイルフォーマット文字列とstr.formatは使わずf文字列で埋め込む"
   ],
   "metadata": {}
  },
  {
   "cell_type": "markdown",
   "source": [
    "### %による方法\r\n",
    "\r\n",
    "* Cスタイルに慣れていればそのまま使える\r\n",
    "* フォーマットの型を揃える必要がある（順序が変わるとフォーマット側も変える必要がある）\r\n",
    "* 辞書型で渡すことができるがコードが冗長になる"
   ],
   "metadata": {}
  },
  {
   "cell_type": "code",
   "execution_count": 34,
   "source": [
    "a = 0b10111011\r\n",
    "b = 0xc5f\r\n",
    "print('Binary is %d, hex is %d' % (a,b))"
   ],
   "outputs": [
    {
     "output_type": "stream",
     "name": "stdout",
     "text": [
      "Binary is 187, hex is 3167\n"
     ]
    }
   ],
   "metadata": {}
  },
  {
   "cell_type": "code",
   "execution_count": 35,
   "source": [
    "key = 'my_var'\r\n",
    "value = 1.234\r\n",
    "formatted = '%-10s = %.2f' % (key, value)\r\n",
    "print(formatted)"
   ],
   "outputs": [
    {
     "output_type": "stream",
     "name": "stdout",
     "text": [
      "my_var     = 1.23\n"
     ]
    }
   ],
   "metadata": {}
  },
  {
   "cell_type": "code",
   "execution_count": 37,
   "source": [
    "key = 'my_var'\r\n",
    "value = 1.234\r\n",
    "formatted = '%-10s = %.2f' % (value, key)\r\n",
    "print(formatted)"
   ],
   "outputs": [
    {
     "output_type": "error",
     "ename": "TypeError",
     "evalue": "must be real number, not str",
     "traceback": [
      "\u001b[1;31m---------------------------------------------------------------------------\u001b[0m",
      "\u001b[1;31mTypeError\u001b[0m                                 Traceback (most recent call last)",
      "\u001b[1;32m<ipython-input-37-ff04ed14c066>\u001b[0m in \u001b[0;36m<module>\u001b[1;34m\u001b[0m\n\u001b[0;32m      1\u001b[0m \u001b[0mkey\u001b[0m \u001b[1;33m=\u001b[0m \u001b[1;34m'my_var'\u001b[0m\u001b[1;33m\u001b[0m\u001b[1;33m\u001b[0m\u001b[0m\n\u001b[0;32m      2\u001b[0m \u001b[0mvalue\u001b[0m \u001b[1;33m=\u001b[0m \u001b[1;36m1.234\u001b[0m\u001b[1;33m\u001b[0m\u001b[1;33m\u001b[0m\u001b[0m\n\u001b[1;32m----> 3\u001b[1;33m \u001b[0mformatted\u001b[0m \u001b[1;33m=\u001b[0m \u001b[1;34m'%-10s = %.2f'\u001b[0m \u001b[1;33m%\u001b[0m \u001b[1;33m(\u001b[0m\u001b[0mvalue\u001b[0m\u001b[1;33m,\u001b[0m \u001b[0mkey\u001b[0m\u001b[1;33m)\u001b[0m\u001b[1;33m\u001b[0m\u001b[1;33m\u001b[0m\u001b[0m\n\u001b[0m\u001b[0;32m      4\u001b[0m \u001b[0mprint\u001b[0m\u001b[1;33m(\u001b[0m\u001b[0mformatted\u001b[0m\u001b[1;33m)\u001b[0m\u001b[1;33m\u001b[0m\u001b[1;33m\u001b[0m\u001b[0m\n",
      "\u001b[1;31mTypeError\u001b[0m: must be real number, not str"
     ]
    }
   ],
   "metadata": {}
  },
  {
   "cell_type": "code",
   "execution_count": 39,
   "source": [
    "key = 'my_var'\r\n",
    "value = 1.234\r\n",
    "formatted = '%.2f = %-10s' % (key, value)\r\n",
    "print(formatted)"
   ],
   "outputs": [
    {
     "output_type": "error",
     "ename": "TypeError",
     "evalue": "must be real number, not str",
     "traceback": [
      "\u001b[1;31m---------------------------------------------------------------------------\u001b[0m",
      "\u001b[1;31mTypeError\u001b[0m                                 Traceback (most recent call last)",
      "\u001b[1;32m<ipython-input-39-61e04136e9cc>\u001b[0m in \u001b[0;36m<module>\u001b[1;34m\u001b[0m\n\u001b[0;32m      1\u001b[0m \u001b[0mkey\u001b[0m \u001b[1;33m=\u001b[0m \u001b[1;34m'my_var'\u001b[0m\u001b[1;33m\u001b[0m\u001b[1;33m\u001b[0m\u001b[0m\n\u001b[0;32m      2\u001b[0m \u001b[0mvalue\u001b[0m \u001b[1;33m=\u001b[0m \u001b[1;36m1.234\u001b[0m\u001b[1;33m\u001b[0m\u001b[1;33m\u001b[0m\u001b[0m\n\u001b[1;32m----> 3\u001b[1;33m \u001b[0mformatted\u001b[0m \u001b[1;33m=\u001b[0m \u001b[1;34m'%.2f = %-10s'\u001b[0m \u001b[1;33m%\u001b[0m \u001b[1;33m(\u001b[0m\u001b[0mkey\u001b[0m\u001b[1;33m,\u001b[0m \u001b[0mvalue\u001b[0m\u001b[1;33m)\u001b[0m\u001b[1;33m\u001b[0m\u001b[1;33m\u001b[0m\u001b[0m\n\u001b[0m\u001b[0;32m      4\u001b[0m \u001b[0mprint\u001b[0m\u001b[1;33m(\u001b[0m\u001b[0mformatted\u001b[0m\u001b[1;33m)\u001b[0m\u001b[1;33m\u001b[0m\u001b[1;33m\u001b[0m\u001b[0m\n",
      "\u001b[1;31mTypeError\u001b[0m: must be real number, not str"
     ]
    }
   ],
   "metadata": {}
  },
  {
   "cell_type": "code",
   "execution_count": 1,
   "source": [
    "pantry = [\r\n",
    "    ('avocados', 1.25),\r\n",
    "    ('bananas', 2.5),\r\n",
    "    ('cherries', 15),\r\n",
    "]\r\n",
    "for i, (item, count) in enumerate(pantry):\r\n",
    "    print('#%d: %-10s = %.2f' % (i, item, count))"
   ],
   "outputs": [
    {
     "output_type": "stream",
     "name": "stdout",
     "text": [
      "#0: avocados   = 1.25\n",
      "#1: bananas    = 2.50\n",
      "#2: cherries   = 15.00\n"
     ]
    }
   ],
   "metadata": {}
  },
  {
   "cell_type": "code",
   "execution_count": 4,
   "source": [
    "# 書き換える必要がある\r\n",
    "for i, (item, count) in enumerate(pantry):\r\n",
    "    print('#%d: %-10s = %d' % (i, item, round(count)))"
   ],
   "outputs": [
    {
     "output_type": "stream",
     "name": "stdout",
     "text": [
      "#0: avocados   = 1\n",
      "#1: bananas    = 2\n",
      "#2: cherries   = 15\n"
     ]
    }
   ],
   "metadata": {}
  },
  {
   "cell_type": "code",
   "execution_count": 6,
   "source": [
    "# 問題：nameを2回記述する必要がある\r\n",
    "template = '%s loves food. See %s cook.'\r\n",
    "name = 'Max'\r\n",
    "formatted = template % (name, name)\r\n",
    "print(formatted)"
   ],
   "outputs": [
    {
     "output_type": "stream",
     "name": "stdout",
     "text": [
      "Max loves food. See Max cook.\n"
     ]
    }
   ],
   "metadata": {}
  },
  {
   "cell_type": "code",
   "execution_count": 11,
   "source": [
    "# 問題：メソッドを使う場合さらに長くなる\r\n",
    "name = 'brad'\r\n",
    "formatted = template % (name.title(), name.title())\r\n",
    "print(formatted)"
   ],
   "outputs": [
    {
     "output_type": "stream",
     "name": "stdout",
     "text": [
      "Brad loves food. See Brad cook.\n"
     ]
    }
   ],
   "metadata": {}
  },
  {
   "cell_type": "code",
   "execution_count": 17,
   "source": [
    "# 解決：辞書型で渡すと交代もできる\r\n",
    "key = 'my_var'\r\n",
    "value = 1.234\r\n",
    "\r\n",
    "old_way = '%-10s = %.2f' % (key, value)\r\n",
    "\r\n",
    "new_way = '%(key)-10s = %(value).2f' % {\r\n",
    "    'key': key, 'value': value\r\n",
    "}\r\n",
    "\r\n",
    "reordered = '%(key)-10s = %(value).2f' % {\r\n",
    "    'value': value, 'key': key\r\n",
    "}\r\n",
    "\r\n",
    "assert old_way == new_way == reordered"
   ],
   "outputs": [],
   "metadata": {}
  },
  {
   "cell_type": "code",
   "execution_count": 22,
   "source": [
    "# 解決：辞書型だと2つ入れずに入力できる\r\n",
    "name = 'Max'\r\n",
    "\r\n",
    "template = '%s loves food. See %s cook.'\r\n",
    "before = template % (name, name)\r\n",
    "\r\n",
    "template = '%(name)s loves food. See %(name)s cook.'\r\n",
    "after = template % {'name': name}\r\n",
    "\r\n",
    "assert after == before"
   ],
   "outputs": [],
   "metadata": {}
  },
  {
   "cell_type": "code",
   "execution_count": 24,
   "source": [
    "# 問題：変数とフォーマットをいれると冗長になる\r\n",
    "for i, (item, count) in enumerate(pantry):\r\n",
    "    before = '#%d: %-10s = %d' % (\r\n",
    "        i + 1,\r\n",
    "        item.title(),\r\n",
    "        round(count)\r\n",
    "    )\r\n",
    "\r\n",
    "    after = '#%(loop)d: %(item)-10s = %(count)d' % {\r\n",
    "        'loop': i + 1,\r\n",
    "        'item': item.title(),\r\n",
    "        'count': round(count)\r\n",
    "    }\r\n",
    "\r\n",
    "    assert before == after"
   ],
   "outputs": [],
   "metadata": {}
  },
  {
   "cell_type": "code",
   "execution_count": 26,
   "source": [
    "soup = 'lentil'\r\n",
    "formatted = 'Today\\'s soup is %(soup)s.' % {'soup': soup}\r\n",
    "print(formatted)"
   ],
   "outputs": [
    {
     "output_type": "stream",
     "name": "stdout",
     "text": [
      "Today's soup is lentil.\n"
     ]
    }
   ],
   "metadata": {}
  },
  {
   "cell_type": "code",
   "execution_count": 28,
   "source": [
    "menu = {\r\n",
    "    'soup': 'lenti',\r\n",
    "    'oyster': 'kumamoto',\r\n",
    "    'special': 'schnitzel',\r\n",
    "}\r\n",
    "template = ('Today\\'s soup is %(soup)s, '\r\n",
    "            'buy one get two %(oyster)s oysters,'\r\n",
    "            'and ourt special entree is %(special)s.')\r\n",
    "formatted = template % menu\r\n",
    "print(formatted)"
   ],
   "outputs": [
    {
     "output_type": "stream",
     "name": "stdout",
     "text": [
      "Today's soup is lenti, buy one get two kumamoto oysters,and ourt special entree is schnitzel.\n"
     ]
    }
   ],
   "metadata": {}
  },
  {
   "cell_type": "markdown",
   "source": [
    "### 組み込みのformatとstr.format\r\n",
    "\r\n",
    "* %演算子と比べると型指定せずにプレースホルダが使える利点がある\r\n",
    "    * 型指定がないので順序変更に強い\r\n",
    "* それ以外については記法が違うもののメリット・デメリットに大きな差はない"
   ],
   "metadata": {}
  },
  {
   "cell_type": "code",
   "execution_count": 38,
   "source": [
    "a = 1234.5678\r\n",
    "formatted = format(a, ',.2f')\r\n",
    "print(formatted)\r\n",
    "\r\n",
    "b = 'my string'\r\n",
    "formatted = format(b, '^20s')\r\n",
    "print('*', formatted, '*')"
   ],
   "outputs": [
    {
     "output_type": "stream",
     "name": "stdout",
     "text": [
      "1,234.57\n",
      "*      my string       *\n"
     ]
    }
   ],
   "metadata": {}
  },
  {
   "cell_type": "code",
   "execution_count": 39,
   "source": [
    "key = 'my_var'\r\n",
    "value = 1.234\r\n",
    "\r\n",
    "formatted = '{} = {}'.format(key, value)\r\n",
    "print(formatted)"
   ],
   "outputs": [
    {
     "output_type": "stream",
     "name": "stdout",
     "text": [
      "my_var = 1.234\n"
     ]
    }
   ],
   "metadata": {}
  },
  {
   "cell_type": "code",
   "execution_count": 40,
   "source": [
    "formatted = '{:<10} = {:.2f}'.format(key, value)\r\n",
    "print(formatted)"
   ],
   "outputs": [
    {
     "output_type": "stream",
     "name": "stdout",
     "text": [
      "my_var     = 1.23\n"
     ]
    }
   ],
   "metadata": {}
  },
  {
   "cell_type": "code",
   "execution_count": 41,
   "source": [
    "# エスケープ\r\n",
    "print('%.2f%%' % 12.5)\r\n",
    "print('{} replaces {{}}'.format(1.23))"
   ],
   "outputs": [
    {
     "output_type": "stream",
     "name": "stdout",
     "text": [
      "12.50%\n",
      "1.23 replaces {}\n"
     ]
    }
   ],
   "metadata": {}
  },
  {
   "cell_type": "code",
   "execution_count": 42,
   "source": [
    "# プレースホルダに順序指定ができる\r\n",
    "formatted = '{1} = {0}'.format(key, value)\r\n",
    "print(formatted)"
   ],
   "outputs": [
    {
     "output_type": "stream",
     "name": "stdout",
     "text": [
      "1.234 = my_var\n"
     ]
    }
   ],
   "metadata": {}
  },
  {
   "cell_type": "code",
   "execution_count": 43,
   "source": [
    "# プレースホルダに順序をいれることで重複を省略できる\r\n",
    "formatted = '{0} loves food. See {0} cook.'.format(name)\r\n",
    "print(formatted)"
   ],
   "outputs": [
    {
     "output_type": "stream",
     "name": "stdout",
     "text": [
      "Max loves food. See Max cook.\n"
     ]
    }
   ],
   "metadata": {}
  },
  {
   "cell_type": "code",
   "execution_count": 46,
   "source": [
    "# 変更に弱い点は変わらない\r\n",
    "for i, (item, count) in enumerate(pantry):\r\n",
    "    old_style = '#%d: %-10s = %d' % (\r\n",
    "        i + 1,\r\n",
    "        item.title(),\r\n",
    "        round(count),\r\n",
    "    )\r\n",
    "\r\n",
    "    new_style = '#{}: {:<10s} = {}'.format(\r\n",
    "        i + 1,\r\n",
    "        item.title(),\r\n",
    "        round(count),\r\n",
    "    )\r\n",
    "\r\n",
    "    assert old_style == new_style\r\n"
   ],
   "outputs": [],
   "metadata": {}
  },
  {
   "cell_type": "code",
   "execution_count": 47,
   "source": [
    "# 辞書のキーと組み合わせることもできるaが、冗長性の解消にはならない\r\n",
    "formatted = 'First letter is {menu[oyster][0]!r}'.format(menu=menu)\r\n",
    "print(formatted)"
   ],
   "outputs": [
    {
     "output_type": "stream",
     "name": "stdout",
     "text": [
      "First letter is 'k'\n"
     ]
    }
   ],
   "metadata": {}
  },
  {
   "cell_type": "code",
   "execution_count": 52,
   "source": [
    "# 辞書型の連携も冗長さは変わらない\r\n",
    "menu = {\r\n",
    "    'soup': 'lenti',\r\n",
    "    'oyster': 'kumamoto',\r\n",
    "    'special': 'schnitzel',\r\n",
    "}\r\n",
    "old_template = ('Today\\'s soup is %(soup)s, '\r\n",
    "            'buy one get two %(oyster)s oysters, '\r\n",
    "            'and our special entree is %(special)s.')\r\n",
    "old_formatted = old_template % menu\r\n",
    "\r\n",
    "new_template = (\r\n",
    "    'Today\\'s soup is {soup}, '\r\n",
    "    'buy one get two {oyster} oysters, '\r\n",
    "    'and our special entree is {special}.'\r\n",
    ")\r\n",
    "new_formatted = new_template.format(**menu)\r\n",
    "\r\n",
    "assert new_formatted == old_formatted"
   ],
   "outputs": [],
   "metadata": {}
  },
  {
   "cell_type": "markdown",
   "source": [
    "### フォーマット済み文字列\r\n",
    "\r\n",
    "Python3.6以降で登場。"
   ],
   "metadata": {}
  },
  {
   "cell_type": "code",
   "execution_count": null,
   "source": [],
   "outputs": [],
   "metadata": {}
  }
 ],
 "metadata": {
  "orig_nbformat": 4,
  "language_info": {
   "name": "python",
   "version": "3.8.5",
   "mimetype": "text/x-python",
   "codemirror_mode": {
    "name": "ipython",
    "version": 3
   },
   "pygments_lexer": "ipython3",
   "nbconvert_exporter": "python",
   "file_extension": ".py"
  },
  "kernelspec": {
   "name": "python3",
   "display_name": "Python 3.8.5 64-bit ('base': conda)"
  },
  "interpreter": {
   "hash": "d83dbcc7646c70cde7bb50469f08ead150ddfa1080a7fca0fcb71d2335734441"
  }
 },
 "nbformat": 4,
 "nbformat_minor": 2
}