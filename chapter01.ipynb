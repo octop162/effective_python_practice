{
 "cells": [
  {
   "cell_type": "markdown",
   "source": [
    "## 項目1 使用するPythonのバージョンを知っておく"
   ],
   "metadata": {}
  },
  {
   "cell_type": "code",
   "execution_count": 5,
   "source": [
    "!python --version"
   ],
   "outputs": [
    {
     "output_type": "stream",
     "name": "stdout",
     "text": [
      "Python 3.8.5\n"
     ]
    }
   ],
   "metadata": {}
  },
  {
   "cell_type": "code",
   "execution_count": 6,
   "source": [
    "import sys\n",
    "print(sys.version_info)\n",
    "print(sys.version)"
   ],
   "outputs": [
    {
     "output_type": "stream",
     "name": "stdout",
     "text": [
      "sys.version_info(major=3, minor=8, micro=5, releaselevel='final', serial=0)\n",
      "3.8.5 (default, Sep  3 2020, 21:29:08) [MSC v.1916 64 bit (AMD64)]\n"
     ]
    }
   ],
   "metadata": {}
  },
  {
   "cell_type": "markdown",
   "source": [
    "## 項目2 PEP8スタイルガイドに従う\r\n",
    "\r\n",
    "以下のスタイルガイドがある。\r\n",
    "\r\n",
    "* 空白\r\n",
    "* 名前付け\r\n",
    "* 式と文\r\n",
    "* インポート"
   ],
   "metadata": {}
  },
  {
   "cell_type": "markdown",
   "source": [
    "## 項目3 bytesとstrの違い"
   ],
   "metadata": {}
  },
  {
   "cell_type": "code",
   "execution_count": 7,
   "source": [
    "a = b'h\\x65llo'\n",
    "print(list(a))\n",
    "print(a)"
   ],
   "outputs": [
    {
     "output_type": "stream",
     "name": "stdout",
     "text": [
      "[104, 101, 108, 108, 111]\n",
      "b'hello'\n"
     ]
    }
   ],
   "metadata": {}
  },
  {
   "cell_type": "code",
   "execution_count": 8,
   "source": [
    "a = 'a\\u0300 propos'\n",
    "print(list(a))\n",
    "print(a)"
   ],
   "outputs": [
    {
     "output_type": "stream",
     "name": "stdout",
     "text": [
      "['a', '̀', ' ', 'p', 'r', 'o', 'p', 'o', 's']\n",
      "à propos\n"
     ]
    }
   ],
   "metadata": {}
  },
  {
   "cell_type": "markdown",
   "source": [
    "Unicodeサンドイッチ（strとbytesの違いで処理に誤りがおきるので変換する）"
   ],
   "metadata": {}
  },
  {
   "cell_type": "code",
   "execution_count": 9,
   "source": [
    "def to_str(bytes_or_str):\n",
    "    if isinstance(bytes_or_str, bytes):\n",
    "        value = bytes_or_str.decode('utf-8')\n",
    "    else:\n",
    "        value = bytes_or_str\n",
    "    return value # str instance\n",
    "\n",
    "print(repr(to_str(b'foo')))\n",
    "print(repr(to_str('bar')))"
   ],
   "outputs": [
    {
     "output_type": "stream",
     "name": "stdout",
     "text": [
      "'foo'\n",
      "'bar'\n"
     ]
    }
   ],
   "metadata": {}
  },
  {
   "cell_type": "code",
   "execution_count": 10,
   "source": [
    "def to_bytes(bytes_or_str):\r\n",
    "    if isinstance(bytes_or_str, str):\r\n",
    "        value = bytes_or_str.encode('utf-8')\r\n",
    "    else:\r\n",
    "        value = bytes_or_str\r\n",
    "    return value # bytes instance\r\n",
    "\r\n",
    "print(repr(to_bytes(b'foo')))\r\n",
    "print(repr(to_bytes('bar')))"
   ],
   "outputs": [
    {
     "output_type": "stream",
     "name": "stdout",
     "text": [
      "b'foo'\n",
      "b'bar'\n"
     ]
    }
   ],
   "metadata": {}
  },
  {
   "cell_type": "markdown",
   "source": [
    "その他の注意\r\n",
    "\r\n",
    "* strとbytesでは同じように扱えない\r\n",
    "  * str、bytes同士は+演算子で結合できる、比較、同値チェックができる\r\n",
    "    * str、bytes間ではできないので注意"
   ],
   "metadata": {}
  },
  {
   "cell_type": "code",
   "execution_count": 11,
   "source": [
    "print(b'one', b'two')\r\n",
    "print('one' + 'two')"
   ],
   "outputs": [
    {
     "output_type": "stream",
     "name": "stdout",
     "text": [
      "b'one' b'two'\n",
      "onetwo\n"
     ]
    }
   ],
   "metadata": {}
  },
  {
   "cell_type": "code",
   "execution_count": 12,
   "source": [
    "b'one' + 'two'"
   ],
   "outputs": [
    {
     "output_type": "error",
     "ename": "TypeError",
     "evalue": "can't concat str to bytes",
     "traceback": [
      "\u001b[1;31m---------------------------------------------------------------------------\u001b[0m",
      "\u001b[1;31mTypeError\u001b[0m                                 Traceback (most recent call last)",
      "\u001b[1;32m<ipython-input-12-f531e85f0fca>\u001b[0m in \u001b[0;36m<module>\u001b[1;34m\u001b[0m\n\u001b[1;32m----> 1\u001b[1;33m \u001b[1;34mb'one'\u001b[0m \u001b[1;33m+\u001b[0m \u001b[1;34m'two'\u001b[0m\u001b[1;33m\u001b[0m\u001b[1;33m\u001b[0m\u001b[0m\n\u001b[0m",
      "\u001b[1;31mTypeError\u001b[0m: can't concat str to bytes"
     ]
    }
   ],
   "metadata": {}
  },
  {
   "cell_type": "code",
   "execution_count": null,
   "source": [
    "'one' + b'two'"
   ],
   "outputs": [
    {
     "output_type": "error",
     "ename": "TypeError",
     "evalue": "can only concatenate str (not \"bytes\") to str",
     "traceback": [
      "\u001b[1;31m---------------------------------------------------------------------------\u001b[0m",
      "\u001b[1;31mTypeError\u001b[0m                                 Traceback (most recent call last)",
      "\u001b[1;32m<ipython-input-4-4bf1340b6409>\u001b[0m in \u001b[0;36m<module>\u001b[1;34m\u001b[0m\n\u001b[1;32m----> 1\u001b[1;33m \u001b[1;34m'one'\u001b[0m \u001b[1;33m+\u001b[0m \u001b[1;34mb'two'\u001b[0m\u001b[1;33m\u001b[0m\u001b[1;33m\u001b[0m\u001b[0m\n\u001b[0m",
      "\u001b[1;31mTypeError\u001b[0m: can only concatenate str (not \"bytes\") to str"
     ]
    }
   ],
   "metadata": {}
  },
  {
   "cell_type": "code",
   "execution_count": null,
   "source": [
    "assert b'red' > b'blue'\r\n",
    "assert 'red' > 'blue'"
   ],
   "outputs": [],
   "metadata": {}
  },
  {
   "cell_type": "code",
   "execution_count": null,
   "source": [
    "assert 'red' > b'blue'"
   ],
   "outputs": [
    {
     "output_type": "error",
     "ename": "TypeError",
     "evalue": "'>' not supported between instances of 'str' and 'bytes'",
     "traceback": [
      "\u001b[1;31m---------------------------------------------------------------------------\u001b[0m",
      "\u001b[1;31mTypeError\u001b[0m                                 Traceback (most recent call last)",
      "\u001b[1;32m<ipython-input-7-51b54d0b93a4>\u001b[0m in \u001b[0;36m<module>\u001b[1;34m\u001b[0m\n\u001b[1;32m----> 1\u001b[1;33m \u001b[1;32massert\u001b[0m \u001b[1;34m'red'\u001b[0m \u001b[1;33m>\u001b[0m \u001b[1;34mb'blue'\u001b[0m\u001b[1;33m\u001b[0m\u001b[1;33m\u001b[0m\u001b[0m\n\u001b[0m",
      "\u001b[1;31mTypeError\u001b[0m: '>' not supported between instances of 'str' and 'bytes'"
     ]
    }
   ],
   "metadata": {}
  },
  {
   "cell_type": "code",
   "execution_count": null,
   "source": [
    "assert b'blue' < 'red'"
   ],
   "outputs": [
    {
     "output_type": "error",
     "ename": "TypeError",
     "evalue": "'<' not supported between instances of 'bytes' and 'str'",
     "traceback": [
      "\u001b[1;31m---------------------------------------------------------------------------\u001b[0m",
      "\u001b[1;31mTypeError\u001b[0m                                 Traceback (most recent call last)",
      "\u001b[1;32m<ipython-input-9-fa081c15c05c>\u001b[0m in \u001b[0;36m<module>\u001b[1;34m\u001b[0m\n\u001b[1;32m----> 1\u001b[1;33m \u001b[1;32massert\u001b[0m \u001b[1;34mb'blue'\u001b[0m \u001b[1;33m<\u001b[0m \u001b[1;34m'red'\u001b[0m\u001b[1;33m\u001b[0m\u001b[1;33m\u001b[0m\u001b[0m\n\u001b[0m",
      "\u001b[1;31mTypeError\u001b[0m: '<' not supported between instances of 'bytes' and 'str'"
     ]
    }
   ],
   "metadata": {}
  },
  {
   "cell_type": "code",
   "execution_count": null,
   "source": [
    "print(b'foo' == 'foo')"
   ],
   "outputs": [
    {
     "output_type": "stream",
     "name": "stdout",
     "text": [
      "False\n"
     ]
    }
   ],
   "metadata": {}
  },
  {
   "cell_type": "code",
   "execution_count": null,
   "source": [
    "print(b'red %s' % b'blue')\r\n",
    "print('red %s' % 'blue')"
   ],
   "outputs": [
    {
     "output_type": "stream",
     "name": "stdout",
     "text": [
      "b'red blue'\n",
      "red blue\n"
     ]
    }
   ],
   "metadata": {}
  },
  {
   "cell_type": "code",
   "execution_count": null,
   "source": [
    "print(b'red %s' % 'blue')"
   ],
   "outputs": [
    {
     "output_type": "error",
     "ename": "TypeError",
     "evalue": "%b requires a bytes-like object, or an object that implements __bytes__, not 'str'",
     "traceback": [
      "\u001b[1;31m---------------------------------------------------------------------------\u001b[0m",
      "\u001b[1;31mTypeError\u001b[0m                                 Traceback (most recent call last)",
      "\u001b[1;32m<ipython-input-12-996799a8aced>\u001b[0m in \u001b[0;36m<module>\u001b[1;34m\u001b[0m\n\u001b[1;32m----> 1\u001b[1;33m \u001b[0mprint\u001b[0m\u001b[1;33m(\u001b[0m\u001b[1;34mb'red %s'\u001b[0m \u001b[1;33m%\u001b[0m \u001b[1;34m'blue'\u001b[0m\u001b[1;33m)\u001b[0m\u001b[1;33m\u001b[0m\u001b[1;33m\u001b[0m\u001b[0m\n\u001b[0m",
      "\u001b[1;31mTypeError\u001b[0m: %b requires a bytes-like object, or an object that implements __bytes__, not 'str'"
     ]
    }
   ],
   "metadata": {}
  },
  {
   "cell_type": "code",
   "execution_count": null,
   "source": [
    "# bytesの__repr__によって b'blue' がそのまま表示される\r\n",
    "print('red %s' % b'blue')"
   ],
   "outputs": [
    {
     "output_type": "stream",
     "name": "stdout",
     "text": [
      "red b'blue'\n"
     ]
    }
   ],
   "metadata": {}
  },
  {
   "cell_type": "markdown",
   "source": [
    "ファイル書き込み（バイナリ、文字列の出力）"
   ],
   "metadata": {}
  },
  {
   "cell_type": "code",
   "execution_count": null,
   "source": [
    "with open('chapter01/random.bin', 'w') as f:\r\n",
    "    f.write(b'\\xf1\\xf2\\xf3\\xf4\\xf5')"
   ],
   "outputs": [
    {
     "output_type": "error",
     "ename": "TypeError",
     "evalue": "write() argument must be str, not bytes",
     "traceback": [
      "\u001b[1;31m---------------------------------------------------------------------------\u001b[0m",
      "\u001b[1;31mTypeError\u001b[0m                                 Traceback (most recent call last)",
      "\u001b[1;32m<ipython-input-27-e901ec028e54>\u001b[0m in \u001b[0;36m<module>\u001b[1;34m\u001b[0m\n\u001b[0;32m      1\u001b[0m \u001b[1;32mwith\u001b[0m \u001b[0mopen\u001b[0m\u001b[1;33m(\u001b[0m\u001b[1;34m'chapter01/random.bin'\u001b[0m\u001b[1;33m,\u001b[0m \u001b[1;34m'w'\u001b[0m\u001b[1;33m)\u001b[0m \u001b[1;32mas\u001b[0m \u001b[0mf\u001b[0m\u001b[1;33m:\u001b[0m\u001b[1;33m\u001b[0m\u001b[1;33m\u001b[0m\u001b[0m\n\u001b[1;32m----> 2\u001b[1;33m     \u001b[0mf\u001b[0m\u001b[1;33m.\u001b[0m\u001b[0mwrite\u001b[0m\u001b[1;33m(\u001b[0m\u001b[1;34mb'\\xf1\\xf2\\xf3\\xf4\\xf5'\u001b[0m\u001b[1;33m)\u001b[0m\u001b[1;33m\u001b[0m\u001b[1;33m\u001b[0m\u001b[0m\n\u001b[0m",
      "\u001b[1;31mTypeError\u001b[0m: write() argument must be str, not bytes"
     ]
    }
   ],
   "metadata": {}
  },
  {
   "cell_type": "code",
   "execution_count": null,
   "source": [
    "with open('chapter01/random.bin', 'wb') as f:\r\n",
    "    f.write(b'\\xf1\\xf2\\xf3\\xf4\\xf5')"
   ],
   "outputs": [],
   "metadata": {}
  },
  {
   "cell_type": "code",
   "execution_count": null,
   "source": [
    "with open('chapter01/random.bin', 'r') as f:\r\n",
    "    data = f.read()"
   ],
   "outputs": [
    {
     "output_type": "error",
     "ename": "UnicodeDecodeError",
     "evalue": "'cp932' codec can't decode byte 0xf5 in position 4: incomplete multibyte sequence",
     "traceback": [
      "\u001b[1;31m---------------------------------------------------------------------------\u001b[0m",
      "\u001b[1;31mUnicodeDecodeError\u001b[0m                        Traceback (most recent call last)",
      "\u001b[1;32m<ipython-input-29-3f570dd75c93>\u001b[0m in \u001b[0;36m<module>\u001b[1;34m\u001b[0m\n\u001b[0;32m      1\u001b[0m \u001b[1;32mwith\u001b[0m \u001b[0mopen\u001b[0m\u001b[1;33m(\u001b[0m\u001b[1;34m'chapter01/random.bin'\u001b[0m\u001b[1;33m,\u001b[0m \u001b[1;34m'r'\u001b[0m\u001b[1;33m)\u001b[0m \u001b[1;32mas\u001b[0m \u001b[0mf\u001b[0m\u001b[1;33m:\u001b[0m\u001b[1;33m\u001b[0m\u001b[1;33m\u001b[0m\u001b[0m\n\u001b[1;32m----> 2\u001b[1;33m     \u001b[0mdata\u001b[0m \u001b[1;33m=\u001b[0m \u001b[0mf\u001b[0m\u001b[1;33m.\u001b[0m\u001b[0mread\u001b[0m\u001b[1;33m(\u001b[0m\u001b[1;33m)\u001b[0m\u001b[1;33m\u001b[0m\u001b[1;33m\u001b[0m\u001b[0m\n\u001b[0m",
      "\u001b[1;31mUnicodeDecodeError\u001b[0m: 'cp932' codec can't decode byte 0xf5 in position 4: incomplete multibyte sequence"
     ]
    }
   ],
   "metadata": {}
  },
  {
   "cell_type": "code",
   "execution_count": null,
   "source": [
    "with open('chapter01/random.bin', 'rb') as f:\n",
    "    data = f.read()\n",
    "assert data == b'\\xf1\\xf2\\xf3\\xf4\\xf5'"
   ],
   "outputs": [],
   "metadata": {}
  },
  {
   "cell_type": "code",
   "execution_count": null,
   "source": [
    "with open('chapter01/random.bin', 'r', encoding='cp1252') as f:\n",
    "    data = f.read()\n",
    "\n",
    "assert data == 'ñòóôõ'"
   ],
   "outputs": [],
   "metadata": {}
  },
  {
   "cell_type": "markdown",
   "source": [
    "## 項目4 Cスタイルフォーマット文字列とstr.formatは使わずf文字列で埋め込む"
   ],
   "metadata": {}
  },
  {
   "cell_type": "markdown",
   "source": [
    "### %による方法\r\n",
    "\r\n",
    "* Cスタイルに慣れていればそのまま使える\r\n",
    "* フォーマットの型を揃える必要がある（順序が変わるとフォーマット側も変える必要がある）\r\n",
    "* 辞書型で渡すことができるがコードが冗長になる"
   ],
   "metadata": {}
  },
  {
   "cell_type": "code",
   "execution_count": null,
   "source": [
    "a = 0b10111011\n",
    "b = 0xc5f\n",
    "print('Binary is %d, hex is %d' % (a,b))"
   ],
   "outputs": [
    {
     "output_type": "stream",
     "name": "stdout",
     "text": [
      "Binary is 187, hex is 3167\n"
     ]
    }
   ],
   "metadata": {}
  },
  {
   "cell_type": "code",
   "execution_count": null,
   "source": [
    "key = 'my_var'\n",
    "value = 1.234\n",
    "formatted = '%-10s = %.2f' % (key, value)\n",
    "print(formatted)"
   ],
   "outputs": [
    {
     "output_type": "stream",
     "name": "stdout",
     "text": [
      "my_var     = 1.23\n"
     ]
    }
   ],
   "metadata": {}
  },
  {
   "cell_type": "code",
   "execution_count": null,
   "source": [
    "key = 'my_var'\n",
    "value = 1.234\n",
    "formatted = '%-10s = %.2f' % (value, key)\n",
    "print(formatted)"
   ],
   "outputs": [
    {
     "output_type": "error",
     "ename": "TypeError",
     "evalue": "must be real number, not str",
     "traceback": [
      "\u001b[1;31m---------------------------------------------------------------------------\u001b[0m",
      "\u001b[1;31mTypeError\u001b[0m                                 Traceback (most recent call last)",
      "\u001b[1;32m<ipython-input-37-ff04ed14c066>\u001b[0m in \u001b[0;36m<module>\u001b[1;34m\u001b[0m\n\u001b[0;32m      1\u001b[0m \u001b[0mkey\u001b[0m \u001b[1;33m=\u001b[0m \u001b[1;34m'my_var'\u001b[0m\u001b[1;33m\u001b[0m\u001b[1;33m\u001b[0m\u001b[0m\n\u001b[0;32m      2\u001b[0m \u001b[0mvalue\u001b[0m \u001b[1;33m=\u001b[0m \u001b[1;36m1.234\u001b[0m\u001b[1;33m\u001b[0m\u001b[1;33m\u001b[0m\u001b[0m\n\u001b[1;32m----> 3\u001b[1;33m \u001b[0mformatted\u001b[0m \u001b[1;33m=\u001b[0m \u001b[1;34m'%-10s = %.2f'\u001b[0m \u001b[1;33m%\u001b[0m \u001b[1;33m(\u001b[0m\u001b[0mvalue\u001b[0m\u001b[1;33m,\u001b[0m \u001b[0mkey\u001b[0m\u001b[1;33m)\u001b[0m\u001b[1;33m\u001b[0m\u001b[1;33m\u001b[0m\u001b[0m\n\u001b[0m\u001b[0;32m      4\u001b[0m \u001b[0mprint\u001b[0m\u001b[1;33m(\u001b[0m\u001b[0mformatted\u001b[0m\u001b[1;33m)\u001b[0m\u001b[1;33m\u001b[0m\u001b[1;33m\u001b[0m\u001b[0m\n",
      "\u001b[1;31mTypeError\u001b[0m: must be real number, not str"
     ]
    }
   ],
   "metadata": {}
  },
  {
   "cell_type": "code",
   "execution_count": null,
   "source": [
    "key = 'my_var'\n",
    "value = 1.234\n",
    "formatted = '%.2f = %-10s' % (key, value)\n",
    "print(formatted)"
   ],
   "outputs": [
    {
     "output_type": "error",
     "ename": "TypeError",
     "evalue": "must be real number, not str",
     "traceback": [
      "\u001b[1;31m---------------------------------------------------------------------------\u001b[0m",
      "\u001b[1;31mTypeError\u001b[0m                                 Traceback (most recent call last)",
      "\u001b[1;32m<ipython-input-39-61e04136e9cc>\u001b[0m in \u001b[0;36m<module>\u001b[1;34m\u001b[0m\n\u001b[0;32m      1\u001b[0m \u001b[0mkey\u001b[0m \u001b[1;33m=\u001b[0m \u001b[1;34m'my_var'\u001b[0m\u001b[1;33m\u001b[0m\u001b[1;33m\u001b[0m\u001b[0m\n\u001b[0;32m      2\u001b[0m \u001b[0mvalue\u001b[0m \u001b[1;33m=\u001b[0m \u001b[1;36m1.234\u001b[0m\u001b[1;33m\u001b[0m\u001b[1;33m\u001b[0m\u001b[0m\n\u001b[1;32m----> 3\u001b[1;33m \u001b[0mformatted\u001b[0m \u001b[1;33m=\u001b[0m \u001b[1;34m'%.2f = %-10s'\u001b[0m \u001b[1;33m%\u001b[0m \u001b[1;33m(\u001b[0m\u001b[0mkey\u001b[0m\u001b[1;33m,\u001b[0m \u001b[0mvalue\u001b[0m\u001b[1;33m)\u001b[0m\u001b[1;33m\u001b[0m\u001b[1;33m\u001b[0m\u001b[0m\n\u001b[0m\u001b[0;32m      4\u001b[0m \u001b[0mprint\u001b[0m\u001b[1;33m(\u001b[0m\u001b[0mformatted\u001b[0m\u001b[1;33m)\u001b[0m\u001b[1;33m\u001b[0m\u001b[1;33m\u001b[0m\u001b[0m\n",
      "\u001b[1;31mTypeError\u001b[0m: must be real number, not str"
     ]
    }
   ],
   "metadata": {}
  },
  {
   "cell_type": "code",
   "execution_count": null,
   "source": [
    "pantry = [\n",
    "    ('avocados', 1.25),\n",
    "    ('bananas', 2.5),\n",
    "    ('cherries', 15),\n",
    "]\n",
    "for i, (item, count) in enumerate(pantry):\n",
    "    print('#%d: %-10s = %.2f' % (i, item, count))"
   ],
   "outputs": [
    {
     "output_type": "stream",
     "name": "stdout",
     "text": [
      "#0: avocados   = 1.25\n",
      "#1: bananas    = 2.50\n",
      "#2: cherries   = 15.00\n"
     ]
    }
   ],
   "metadata": {}
  },
  {
   "cell_type": "code",
   "execution_count": null,
   "source": [
    "# 書き換える必要がある\n",
    "for i, (item, count) in enumerate(pantry):\n",
    "    print('#%d: %-10s = %d' % (i, item, round(count)))"
   ],
   "outputs": [
    {
     "output_type": "stream",
     "name": "stdout",
     "text": [
      "#0: avocados   = 1\n",
      "#1: bananas    = 2\n",
      "#2: cherries   = 15\n"
     ]
    }
   ],
   "metadata": {}
  },
  {
   "cell_type": "code",
   "execution_count": null,
   "source": [
    "# 問題：nameを2回記述する必要がある\n",
    "template = '%s loves food. See %s cook.'\n",
    "name = 'Max'\n",
    "formatted = template % (name, name)\n",
    "print(formatted)"
   ],
   "outputs": [
    {
     "output_type": "stream",
     "name": "stdout",
     "text": [
      "Max loves food. See Max cook.\n"
     ]
    }
   ],
   "metadata": {}
  },
  {
   "cell_type": "code",
   "execution_count": null,
   "source": [
    "# 問題：メソッドを使う場合さらに長くなる\n",
    "name = 'brad'\n",
    "formatted = template % (name.title(), name.title())\n",
    "print(formatted)"
   ],
   "outputs": [
    {
     "output_type": "stream",
     "name": "stdout",
     "text": [
      "Brad loves food. See Brad cook.\n"
     ]
    }
   ],
   "metadata": {}
  },
  {
   "cell_type": "code",
   "execution_count": null,
   "source": [
    "# 解決：辞書型で渡すと交代もできる\r\n",
    "key = 'my_var'\r\n",
    "value = 1.234\r\n",
    "\r\n",
    "old_way = '%-10s = %.2f' % (key, value)\r\n",
    "\r\n",
    "new_way = '%(key)-10s = %(value).2f' % {\r\n",
    "    'key': key, 'value': value\r\n",
    "}\r\n",
    "\r\n",
    "reordered = '%(key)-10s = %(value).2f' % {\r\n",
    "    'value': value, 'key': key\r\n",
    "}\r\n",
    "\r\n",
    "assert old_way == new_way == reordered"
   ],
   "outputs": [],
   "metadata": {}
  },
  {
   "cell_type": "code",
   "execution_count": null,
   "source": [
    "# 解決：辞書型だと2つ入れずに入力できる\r\n",
    "name = 'Max'\r\n",
    "\r\n",
    "template = '%s loves food. See %s cook.'\r\n",
    "before = template % (name, name)\r\n",
    "\r\n",
    "template = '%(name)s loves food. See %(name)s cook.'\r\n",
    "after = template % {'name': name}\r\n",
    "\r\n",
    "assert after == before"
   ],
   "outputs": [],
   "metadata": {}
  },
  {
   "cell_type": "code",
   "execution_count": null,
   "source": [
    "# 問題：変数とフォーマットをいれると冗長になる\r\n",
    "for i, (item, count) in enumerate(pantry):\r\n",
    "    before = '#%d: %-10s = %d' % (\r\n",
    "        i + 1,\r\n",
    "        item.title(),\r\n",
    "        round(count)\r\n",
    "    )\r\n",
    "\r\n",
    "    after = '#%(loop)d: %(item)-10s = %(count)d' % {\r\n",
    "        'loop': i + 1,\r\n",
    "        'item': item.title(),\r\n",
    "        'count': round(count)\r\n",
    "    }\r\n",
    "\r\n",
    "    assert before == after"
   ],
   "outputs": [],
   "metadata": {}
  },
  {
   "cell_type": "code",
   "execution_count": null,
   "source": [
    "soup = 'lentil'\r\n",
    "formatted = 'Today\\'s soup is %(soup)s.' % {'soup': soup}\r\n",
    "print(formatted)"
   ],
   "outputs": [
    {
     "output_type": "stream",
     "name": "stdout",
     "text": [
      "Today's soup is lentil.\n"
     ]
    }
   ],
   "metadata": {}
  },
  {
   "cell_type": "code",
   "execution_count": null,
   "source": [
    "menu = {\r\n",
    "    'soup': 'lenti',\r\n",
    "    'oyster': 'kumamoto',\r\n",
    "    'special': 'schnitzel',\r\n",
    "}\r\n",
    "template = ('Today\\'s soup is %(soup)s, '\r\n",
    "            'buy one get two %(oyster)s oysters,'\r\n",
    "            'and ourt special entree is %(special)s.')\r\n",
    "formatted = template % menu\r\n",
    "print(formatted)"
   ],
   "outputs": [
    {
     "output_type": "stream",
     "name": "stdout",
     "text": [
      "Today's soup is lenti, buy one get two kumamoto oysters,and ourt special entree is schnitzel.\n"
     ]
    }
   ],
   "metadata": {}
  },
  {
   "cell_type": "markdown",
   "source": [
    "### 組み込みのformatとstr.format\r\n",
    "\r\n",
    "* %演算子と比べると型指定せずにプレースホルダが使える利点がある\r\n",
    "    * 型指定がないので順序変更に強い\r\n",
    "* それ以外については記法が違うもののメリット・デメリットに大きな差はない"
   ],
   "metadata": {}
  },
  {
   "cell_type": "code",
   "execution_count": null,
   "source": [
    "a = 1234.5678\n",
    "formatted = format(a, ',.2f')\n",
    "print(formatted)\n",
    "\n",
    "b = 'my string'\n",
    "formatted = format(b, '^20s')\n",
    "print('*', formatted, '*')"
   ],
   "outputs": [
    {
     "output_type": "stream",
     "name": "stdout",
     "text": [
      "1,234.57\n",
      "*      my string       *\n"
     ]
    }
   ],
   "metadata": {}
  },
  {
   "cell_type": "code",
   "execution_count": null,
   "source": [
    "key = 'my_var'\n",
    "value = 1.234\n",
    "\n",
    "formatted = '{} = {}'.format(key, value)\n",
    "print(formatted)"
   ],
   "outputs": [
    {
     "output_type": "stream",
     "name": "stdout",
     "text": [
      "my_var = 1.234\n"
     ]
    }
   ],
   "metadata": {}
  },
  {
   "cell_type": "code",
   "execution_count": null,
   "source": [
    "formatted = '{:<10} = {:.2f}'.format(key, value)\n",
    "print(formatted)"
   ],
   "outputs": [
    {
     "output_type": "stream",
     "name": "stdout",
     "text": [
      "my_var     = 1.23\n"
     ]
    }
   ],
   "metadata": {}
  },
  {
   "cell_type": "code",
   "execution_count": null,
   "source": [
    "# エスケープ\n",
    "print('%.2f%%' % 12.5)\n",
    "print('{} replaces {{}}'.format(1.23))"
   ],
   "outputs": [
    {
     "output_type": "stream",
     "name": "stdout",
     "text": [
      "12.50%\n",
      "1.23 replaces {}\n"
     ]
    }
   ],
   "metadata": {}
  },
  {
   "cell_type": "code",
   "execution_count": null,
   "source": [
    "# プレースホルダに順序指定ができる\n",
    "formatted = '{1} = {0}'.format(key, value)\n",
    "print(formatted)"
   ],
   "outputs": [
    {
     "output_type": "stream",
     "name": "stdout",
     "text": [
      "1.234 = my_var\n"
     ]
    }
   ],
   "metadata": {}
  },
  {
   "cell_type": "code",
   "execution_count": null,
   "source": [
    "# プレースホルダに順序をいれることで重複を省略できる\n",
    "formatted = '{0} loves food. See {0} cook.'.format(name)\n",
    "print(formatted)"
   ],
   "outputs": [
    {
     "output_type": "stream",
     "name": "stdout",
     "text": [
      "Max loves food. See Max cook.\n"
     ]
    }
   ],
   "metadata": {}
  },
  {
   "cell_type": "code",
   "execution_count": null,
   "source": [
    "# 変更に弱い点は変わらない\n",
    "for i, (item, count) in enumerate(pantry):\n",
    "    old_style = '#%d: %-10s = %d' % (\n",
    "        i + 1,\n",
    "        item.title(),\n",
    "        round(count),\n",
    "    )\n",
    "\n",
    "    new_style = '#{}: {:<10s} = {}'.format(\n",
    "        i + 1,\n",
    "        item.title(),\n",
    "        round(count),\n",
    "    )\n",
    "\n",
    "    assert old_style == new_style\n"
   ],
   "outputs": [],
   "metadata": {}
  },
  {
   "cell_type": "code",
   "execution_count": null,
   "source": [
    "# 辞書のキーと組み合わせることもできるaが、冗長性の解消にはならない\n",
    "formatted = 'First letter is {menu[oyster][0]!r}'.format(menu=menu)\n",
    "print(formatted)"
   ],
   "outputs": [
    {
     "output_type": "stream",
     "name": "stdout",
     "text": [
      "First letter is 'k'\n"
     ]
    }
   ],
   "metadata": {}
  },
  {
   "cell_type": "code",
   "execution_count": null,
   "source": [
    "# 辞書型の連携も冗長さは変わらない\n",
    "menu = {\n",
    "    'soup': 'lenti',\n",
    "    'oyster': 'kumamoto',\n",
    "    'special': 'schnitzel',\n",
    "}\n",
    "old_template = ('Today\\'s soup is %(soup)s, '\n",
    "            'buy one get two %(oyster)s oysters, '\n",
    "            'and our special entree is %(special)s.')\n",
    "old_formatted = old_template % menu\n",
    "\n",
    "new_template = (\n",
    "    'Today\\'s soup is {soup}, '\n",
    "    'buy one get two {oyster} oysters, '\n",
    "    'and our special entree is {special}.'\n",
    ")\n",
    "new_formatted = new_template.format(**menu)\n",
    "\n",
    "assert new_formatted == old_formatted"
   ],
   "outputs": [],
   "metadata": {}
  },
  {
   "cell_type": "markdown",
   "source": [
    "### フォーマット済み文字列\r\n",
    "\r\n",
    "Python3.6以降で登場。\r\n",
    "\r\n",
    "* formatや%と比較して重複がない"
   ],
   "metadata": {}
  },
  {
   "cell_type": "code",
   "execution_count": null,
   "source": [
    "key = 'my_var'\n",
    "value = 1.234\n",
    "\n",
    "formatted = f'{key} = {value}'\n",
    "print(formatted)"
   ],
   "outputs": [
    {
     "output_type": "stream",
     "name": "stdout",
     "text": [
      "my_var = 1.234\n"
     ]
    }
   ],
   "metadata": {}
  },
  {
   "cell_type": "code",
   "execution_count": null,
   "source": [
    "formatted = f'{key!r:<10} = {value:.2f}'\n",
    "print(formatted)"
   ],
   "outputs": [
    {
     "output_type": "stream",
     "name": "stdout",
     "text": [
      "'my_var'   = 1.23\n"
     ]
    }
   ],
   "metadata": {}
  },
  {
   "cell_type": "code",
   "execution_count": null,
   "source": [
    "f_string = f'{key:<10} = {value:.2f}'\n",
    "c_tuple = '%-10s = %.2f' % (key, value)\n",
    "str_args = '{:<10} = {:.2f}'.format(key, value)\n",
    "str_kw = '{key:<10} = {value:.2f}'.format(key=key, value=value)\n",
    "c_dict = '%(key)-10s = %(value).2f' % {'key': key, 'value': value}\n",
    "\n",
    "assert c_tuple == c_dict == f_string\n",
    "assert str_args == str_kw == f_string"
   ],
   "outputs": [],
   "metadata": {}
  },
  {
   "cell_type": "code",
   "execution_count": 17,
   "source": [
    "pantry = [\n",
    "    ('a', 1.234),\n",
    "    ('b', 1.567),\n",
    "    ('c', 5.345),\n",
    "]\n",
    "for i, (item, count) in enumerate(pantry):\n",
    "    old_style = '#%d: %-10s = %d' % (\n",
    "        i + 1,\n",
    "        item.title(),\n",
    "        round(count),\n",
    "    )\n",
    "\n",
    "    new_style = '#{}: {:<10s} = {}'.format(\n",
    "        i + 1,\n",
    "        item.title(),\n",
    "        round(count),\n",
    "    )\n",
    "\n",
    "    f_string = f'#{i+1}: {item.title():<10s} = {round(count)}'\n",
    "\n",
    "    assert old_style == new_style == f_string"
   ],
   "outputs": [],
   "metadata": {}
  },
  {
   "cell_type": "code",
   "execution_count": 19,
   "source": [
    "for i, (item, count) in enumerate(pantry):\r\n",
    "    print(f'#{i+1}: '\r\n",
    "            f'{item.title():<10s} = '\r\n",
    "            f'{round(count)}')\r\n"
   ],
   "outputs": [
    {
     "output_type": "stream",
     "name": "stdout",
     "text": [
      "#1: A          = 1\n",
      "#2: B          = 2\n",
      "#3: C          = 5\n"
     ]
    }
   ],
   "metadata": {}
  },
  {
   "cell_type": "code",
   "execution_count": 20,
   "source": [
    "places = 3\r\n",
    "number = 1.23456\r\n",
    "print(f'My number is {number:.{places}f}')"
   ],
   "outputs": [
    {
     "output_type": "stream",
     "name": "stdout",
     "text": [
      "My number is 1.235\n"
     ]
    }
   ],
   "metadata": {}
  },
  {
   "cell_type": "markdown",
   "source": [
    "## 項目5 複雑な式の代わりにヘルパー関数を書く"
   ],
   "metadata": {}
  },
  {
   "cell_type": "code",
   "execution_count": 21,
   "source": [
    "from urllib.parse import parse_qs\n",
    "\n",
    "my_values = parse_qs('red=5&blue=0&green=', keep_blank_values=True)\n",
    "print(repr(my_values))"
   ],
   "outputs": [
    {
     "output_type": "stream",
     "name": "stdout",
     "text": [
      "{'red': ['5'], 'blue': ['0'], 'green': ['']}\n"
     ]
    }
   ],
   "metadata": {}
  },
  {
   "cell_type": "code",
   "execution_count": 22,
   "source": [
    "print('Red:     ', my_values.get('red'))\n",
    "print('Green:   ', my_values.get('green'))\n",
    "print('Opacity: ', my_values.get('opacity'))"
   ],
   "outputs": [
    {
     "output_type": "stream",
     "name": "stdout",
     "text": [
      "Red:      ['5']\n",
      "Green:    ['']\n",
      "Opacity:  None\n"
     ]
    }
   ],
   "metadata": {}
  },
  {
   "cell_type": "code",
   "execution_count": 24,
   "source": [
    "red = my_values.get('red', [''])[0] or 0\n",
    "green = my_values.get('green', [''])[0] or 0\n",
    "opacity = my_values.get('opacity', [''])[0] or 0\n",
    "print(f'Red:     {red!r}')\n",
    "print(f'Green:   {green!r}')\n",
    "print(f'Opacity: {opacity!r}')"
   ],
   "outputs": [
    {
     "output_type": "stream",
     "name": "stdout",
     "text": [
      "Red:     '5'\n",
      "Green:   0\n",
      "Opacity: 0\n"
     ]
    }
   ],
   "metadata": {}
  },
  {
   "cell_type": "code",
   "execution_count": 25,
   "source": [
    "red = int(my_values.get('red', [''])[0] or 0)"
   ],
   "outputs": [],
   "metadata": {}
  },
  {
   "cell_type": "code",
   "execution_count": 27,
   "source": [
    "red_str = my_values.get('red', [''])\n",
    "red = int(red_str[0]) if red_str[0] else 0"
   ],
   "outputs": [],
   "metadata": {}
  },
  {
   "cell_type": "code",
   "execution_count": 28,
   "source": [
    "green_str = my_values.get('green', [''])\n",
    "if green_str[0]:\n",
    "    green = int(green_str[0])\n",
    "else:\n",
    "    green = 0"
   ],
   "outputs": [],
   "metadata": {}
  },
  {
   "cell_type": "code",
   "execution_count": 29,
   "source": [
    "def get_first_int(values, key, default=0):\n",
    "    found = values.get(key, [''])\n",
    "    if found[0]:\n",
    "        return int(found[0])\n",
    "    else:\n",
    "        return default"
   ],
   "outputs": [],
   "metadata": {}
  },
  {
   "cell_type": "code",
   "execution_count": 32,
   "source": [
    "green = get_first_int(my_values, 'green')"
   ],
   "outputs": [],
   "metadata": {}
  },
  {
   "cell_type": "markdown",
   "source": [
    "## 項目6 インデックスではなく複数代入アンパックを使う"
   ],
   "metadata": {}
  },
  {
   "cell_type": "code",
   "execution_count": 33,
   "source": [
    "snack_calories = {\n",
    "    'chips': 140,\n",
    "    'popcorn': 80,\n",
    "    'nuts': 190,\n",
    "}\n",
    "items = tuple(snack_calories.items())\n",
    "print(items)"
   ],
   "outputs": [
    {
     "output_type": "stream",
     "name": "stdout",
     "text": [
      "(('chips', 140), ('popcorn', 80), ('nuts', 190))\n"
     ]
    }
   ],
   "metadata": {}
  },
  {
   "cell_type": "code",
   "execution_count": 34,
   "source": [
    "item = ('Peanut butter', 'Jelly')\n",
    "first = item[0]\n",
    "second = item[1]\n",
    "print(first, 'and', second)"
   ],
   "outputs": [
    {
     "output_type": "stream",
     "name": "stdout",
     "text": [
      "Peanut butter and Jelly\n"
     ]
    }
   ],
   "metadata": {}
  },
  {
   "cell_type": "code",
   "execution_count": 35,
   "source": [
    "pair = ('Chocolate', 'Peanut butter')\n",
    "pair[0] = 'Honey'"
   ],
   "outputs": [
    {
     "output_type": "error",
     "ename": "TypeError",
     "evalue": "'tuple' object does not support item assignment",
     "traceback": [
      "\u001b[1;31m---------------------------------------------------------------------------\u001b[0m",
      "\u001b[1;31mTypeError\u001b[0m                                 Traceback (most recent call last)",
      "\u001b[1;32m<ipython-input-35-bebe4d73afed>\u001b[0m in \u001b[0;36m<module>\u001b[1;34m\u001b[0m\n\u001b[0;32m      1\u001b[0m \u001b[0mpair\u001b[0m \u001b[1;33m=\u001b[0m \u001b[1;33m(\u001b[0m\u001b[1;34m'Chocolate'\u001b[0m\u001b[1;33m,\u001b[0m \u001b[1;34m'Peanut butter'\u001b[0m\u001b[1;33m)\u001b[0m\u001b[1;33m\u001b[0m\u001b[1;33m\u001b[0m\u001b[0m\n\u001b[1;32m----> 2\u001b[1;33m \u001b[0mpair\u001b[0m\u001b[1;33m[\u001b[0m\u001b[1;36m0\u001b[0m\u001b[1;33m]\u001b[0m \u001b[1;33m=\u001b[0m \u001b[1;34m'Honey'\u001b[0m\u001b[1;33m\u001b[0m\u001b[1;33m\u001b[0m\u001b[0m\n\u001b[0m",
      "\u001b[1;31mTypeError\u001b[0m: 'tuple' object does not support item assignment"
     ]
    }
   ],
   "metadata": {}
  },
  {
   "cell_type": "code",
   "execution_count": 36,
   "source": [
    "item = ('Peanut butter', 'Jelly')\n",
    "first, second = item #Unpack\n",
    "print(first, 'and', second)"
   ],
   "outputs": [
    {
     "output_type": "stream",
     "name": "stdout",
     "text": [
      "Peanut butter and Jelly\n"
     ]
    }
   ],
   "metadata": {}
  },
  {
   "cell_type": "code",
   "execution_count": 37,
   "source": [
    "favorite_snacks = {\n",
    "    'salty': ('pretzels', 100),\n",
    "    'sweet': ('cookies', 180),\n",
    "    'veggie': ('carrots', 20),\n",
    "}\n",
    "\n",
    "(\n",
    "    (type1, (name1, cals1)),\n",
    "    (type2, (name2, cals2)),\n",
    "    (type3, (name3, cals3)),\n",
    ") = favorite_snacks.items()\n",
    "\n",
    "print(f'Favorite {type1} is {name1} with {cals1} calories')\n",
    "print(f'Favorite {type2} is {name2} with {cals2} calories')\n",
    "print(f'Favorite {type3} is {name3} with {cals3} calories')"
   ],
   "outputs": [
    {
     "output_type": "stream",
     "name": "stdout",
     "text": [
      "Favorite salty is pretzels with 100 calories\n",
      "Favorite sweet is cookies with 180 calories\n",
      "Favorite veggie is carrots with 20 calories\n"
     ]
    }
   ],
   "metadata": {}
  },
  {
   "cell_type": "code",
   "execution_count": 39,
   "source": [
    "def bubble_sort(a):\n",
    "    for _ in range(len(a)):\n",
    "        for i in range(1, len(a)):\n",
    "            if a[i] < a[i-1]:\n",
    "                temp = a[i]\n",
    "                a[i] = a[i-1]\n",
    "                a[i-1] = temp\n",
    "names = ['pretzels', 'carrots', 'arugula', 'bacon']\n",
    "bubble_sort(names)\n",
    "print(names)"
   ],
   "outputs": [
    {
     "output_type": "stream",
     "name": "stdout",
     "text": [
      "['arugula', 'bacon', 'carrots', 'pretzels']\n"
     ]
    }
   ],
   "metadata": {}
  },
  {
   "cell_type": "code",
   "execution_count": 40,
   "source": [
    "def bubble_sort(a):\n",
    "    for _ in range(len(a)):\n",
    "        for i in range(1, len(a)):\n",
    "            if a[i] < a[i-1]:\n",
    "                a[i-1], a[i] = a[i], a[i-1] #Swap\n",
    "names = ['pretzels', 'carrots', 'arugula', 'bacon']\n",
    "bubble_sort(names)\n",
    "print(names)"
   ],
   "outputs": [
    {
     "output_type": "stream",
     "name": "stdout",
     "text": [
      "['arugula', 'bacon', 'carrots', 'pretzels']\n"
     ]
    }
   ],
   "metadata": {}
  },
  {
   "cell_type": "code",
   "execution_count": 42,
   "source": [
    "snacks = [('bacon', 350), ('donut', 240), ('muffin', 190)]\n",
    "for i in range(len(snacks)):\n",
    "    item = snacks[i]\n",
    "    name = item[0]\n",
    "    calories = item[1]\n",
    "    print(f'#{i+1}: {name} has {calories} calories')"
   ],
   "outputs": [
    {
     "output_type": "stream",
     "name": "stdout",
     "text": [
      "#1: bacon has 350 calories\n",
      "#2: donut has 240 calories\n",
      "#3: muffin has 190 calories\n"
     ]
    }
   ],
   "metadata": {}
  },
  {
   "cell_type": "code",
   "execution_count": 43,
   "source": [
    "for rank, (name, calories) in enumerate(snacks, 1):\n",
    "    print(f'#{rank}: {name} has {calories} calories')"
   ],
   "outputs": [
    {
     "output_type": "stream",
     "name": "stdout",
     "text": [
      "#1: bacon has 350 calories\n",
      "#2: donut has 240 calories\n",
      "#3: muffin has 190 calories\n"
     ]
    }
   ],
   "metadata": {}
  },
  {
   "cell_type": "markdown",
   "source": [
    "## 項目7 rangeではなくenumerateを使う"
   ],
   "metadata": {}
  },
  {
   "cell_type": "code",
   "execution_count": 7,
   "source": [
    "from random import randint\n",
    "\n",
    "random_bits = 0\n",
    "for i in range(64):\n",
    "    if randint(0, 1):\n",
    "            random_bits |= 1 << i\n",
    "print(bin(random_bits))"
   ],
   "outputs": [
    {
     "output_type": "stream",
     "name": "stdout",
     "text": [
      "0b11101111111111110001110001011111100111000001100110101100010100\n"
     ]
    }
   ],
   "metadata": {}
  },
  {
   "cell_type": "code",
   "execution_count": 8,
   "source": [
    "flavor_list = ['vanilla', 'chocolate', 'pecan', 'strawberry']\n",
    "for flavor in flavor_list:\n",
    "    print(f'{flavor} is delicious')"
   ],
   "outputs": [
    {
     "output_type": "stream",
     "name": "stdout",
     "text": [
      "vanilla is delicious\n",
      "chocolate is delicious\n",
      "pecan is delicious\n",
      "strawberry is delicious\n"
     ]
    }
   ],
   "metadata": {}
  },
  {
   "cell_type": "code",
   "execution_count": 9,
   "source": [
    "for i in range(len(flavor_list)):\n",
    "  flavor = flavor_list[i]\n",
    "  print(f'{i+1}: {flavor}')"
   ],
   "outputs": [
    {
     "output_type": "stream",
     "name": "stdout",
     "text": [
      "1: vanilla\n",
      "2: chocolate\n",
      "3: pecan\n",
      "4: strawberry\n"
     ]
    }
   ],
   "metadata": {}
  },
  {
   "cell_type": "code",
   "execution_count": 10,
   "source": [
    "it = enumerate(flavor_list)\n",
    "print(next(it))\n",
    "print(next(it))"
   ],
   "outputs": [
    {
     "output_type": "stream",
     "name": "stdout",
     "text": [
      "(0, 'vanilla')\n",
      "(1, 'chocolate')\n"
     ]
    }
   ],
   "metadata": {}
  },
  {
   "cell_type": "code",
   "execution_count": 5,
   "source": [
    "for i, flavor in enumerate(flavor_list):\n",
    "  print(f'{i + 1}: {flavor}')"
   ],
   "outputs": [
    {
     "output_type": "stream",
     "name": "stdout",
     "text": [
      "1: vanilla\n",
      "2: chocolate\n",
      "3: pecan\n",
      "4: strawberry\n"
     ]
    }
   ],
   "metadata": {}
  },
  {
   "cell_type": "code",
   "execution_count": 6,
   "source": [
    "for i, flavor in enumerate(flavor_list, 1):\n",
    "  print(f'{i}: {flavor}')"
   ],
   "outputs": [
    {
     "output_type": "stream",
     "name": "stdout",
     "text": [
      "1: vanilla\n",
      "2: chocolate\n",
      "3: pecan\n",
      "4: strawberry\n"
     ]
    }
   ],
   "metadata": {}
  },
  {
   "cell_type": "markdown",
   "source": [
    "## 項目8 イテレータを並列に処理するにはzipを使う"
   ],
   "metadata": {}
  },
  {
   "cell_type": "code",
   "execution_count": 21,
   "source": [
    "names =['Cecilia', 'Lise', 'Marie']\n",
    "counts = [len(n) for n in names]\n",
    "print(counts)"
   ],
   "outputs": [
    {
     "output_type": "stream",
     "name": "stdout",
     "text": [
      "[7, 4, 5]\n"
     ]
    }
   ],
   "metadata": {}
  },
  {
   "cell_type": "code",
   "execution_count": 22,
   "source": [
    "longest_name = None\n",
    "max_count = 0\n",
    "for i in range(len(names)):\n",
    "  count = counts[i]\n",
    "  if count > max_count:\n",
    "    longest_name = names[i]\n",
    "    max_count = count\n",
    "print(longest_name)"
   ],
   "outputs": [
    {
     "output_type": "stream",
     "name": "stdout",
     "text": [
      "Cecilia\n"
     ]
    }
   ],
   "metadata": {}
  },
  {
   "cell_type": "code",
   "execution_count": 23,
   "source": [
    "for i, name in enumerate(names):\n",
    "  count = counts[i]\n",
    "  if count > max_count:\n",
    "    longest_name = name\n",
    "    max_count = count\n",
    "print(longest_name)"
   ],
   "outputs": [
    {
     "output_type": "stream",
     "name": "stdout",
     "text": [
      "Cecilia\n"
     ]
    }
   ],
   "metadata": {}
  },
  {
   "cell_type": "code",
   "execution_count": 24,
   "source": [
    "# zipによる表現\n",
    "for name, count in zip(name, counts):\n",
    "  if count > max_count:\n",
    "    longest_name = name\n",
    "    max_letters = count\n",
    "print(longest_name)"
   ],
   "outputs": [
    {
     "output_type": "stream",
     "name": "stdout",
     "text": [
      "Cecilia\n"
     ]
    }
   ],
   "metadata": {}
  },
  {
   "cell_type": "code",
   "execution_count": 25,
   "source": [
    "# zipの長さが違う場合の挙動→最短の入力の長さ分しかループしないのでRosalindは無視される\n",
    "names.append('Rosalind')\n",
    "for name, count in zip(names, counts):\n",
    "  print(name)"
   ],
   "outputs": [
    {
     "output_type": "stream",
     "name": "stdout",
     "text": [
      "Cecilia\n",
      "Lise\n",
      "Marie\n"
     ]
    }
   ],
   "metadata": {}
  },
  {
   "cell_type": "code",
   "execution_count": 27,
   "source": [
    "# zip_longestを使えば最長の入力の長さ分ループしてくれる(短い分はNoneで埋められる)\n",
    "import itertools\n",
    "\n",
    "for name, count in itertools.zip_longest(names, counts):\n",
    "  print(f'{name}: {count}')"
   ],
   "outputs": [
    {
     "output_type": "stream",
     "name": "stdout",
     "text": [
      "Cecilia: 7\n",
      "Lise: 4\n",
      "Marie: 5\n",
      "Rosalind: None\n"
     ]
    }
   ],
   "metadata": {}
  },
  {
   "cell_type": "markdown",
   "source": [
    "## 項目9 forループとwhileループのあとのelseブロックは使わない\n",
    "ややこしいので、使わないほうが吉\n",
    "* 最後までループが終わると実行されbreakされると実行されなくなる\n",
    "  * ifのelseやtryのelseと比較して直感的でない"
   ],
   "metadata": {}
  },
  {
   "cell_type": "code",
   "execution_count": 29,
   "source": [
    "# breakされなかったらelseブロックが実行される\n",
    "for i in range(3):\n",
    "  print('Loop', i)\n",
    "else:\n",
    "  print('Else block!!')"
   ],
   "outputs": [
    {
     "output_type": "stream",
     "name": "stdout",
     "text": [
      "Loop 0\n",
      "Loop 1\n",
      "Loop 2\n",
      "Else block!!\n"
     ]
    }
   ],
   "metadata": {}
  },
  {
   "cell_type": "code",
   "execution_count": 30,
   "source": [
    "# 途中でbreakされるとelseブロックが実行されない\n",
    "for i in range(3):\n",
    "  print('Loop', i)\n",
    "  if i == 1:\n",
    "    break\n",
    "else:\n",
    "  print('Else block!!')"
   ],
   "outputs": [
    {
     "output_type": "stream",
     "name": "stdout",
     "text": [
      "Loop 0\n",
      "Loop 1\n"
     ]
    }
   ],
   "metadata": {}
  }
 ],
 "metadata": {
  "orig_nbformat": 4,
  "language_info": {
   "name": "python",
   "version": "3.8.11",
   "mimetype": "text/x-python",
   "codemirror_mode": {
    "name": "ipython",
    "version": 3
   },
   "pygments_lexer": "ipython3",
   "nbconvert_exporter": "python",
   "file_extension": ".py"
  },
  "kernelspec": {
   "name": "python3",
   "display_name": "Python 3.8.11 64-bit"
  },
  "interpreter": {
   "hash": "1ee38ef4a5a9feb55287fd749643f13d043cb0a7addaab2a9c224cbe137c0062"
  }
 },
 "nbformat": 4,
 "nbformat_minor": 2
}