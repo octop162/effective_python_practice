{
 "cells": [
  {
   "cell_type": "markdown",
   "source": [
    "## 項目1 使用するPythonのバージョンを知っておく"
   ],
   "metadata": {}
  },
  {
   "cell_type": "code",
   "execution_count": 10,
   "source": [
    "!python --version"
   ],
   "outputs": [
    {
     "output_type": "stream",
     "name": "stdout",
     "text": [
      "Python 3.8.5\n"
     ]
    }
   ],
   "metadata": {}
  },
  {
   "cell_type": "code",
   "execution_count": 11,
   "source": [
    "import sys\r\n",
    "print(sys.version_info)\r\n",
    "print(sys.version)"
   ],
   "outputs": [
    {
     "output_type": "stream",
     "name": "stdout",
     "text": [
      "sys.version_info(major=3, minor=8, micro=5, releaselevel='final', serial=0)\n",
      "3.8.5 (default, Sep  3 2020, 21:29:08) [MSC v.1916 64 bit (AMD64)]\n"
     ]
    }
   ],
   "metadata": {}
  },
  {
   "cell_type": "markdown",
   "source": [
    "## 項目2 PEP8スタイルガイドに従う\r\n",
    "\r\n",
    "以下のスタイルガイドがある。\r\n",
    "\r\n",
    "* 空白\r\n",
    "* 名前付け\r\n",
    "* 式と文\r\n",
    "* インポート"
   ],
   "metadata": {}
  },
  {
   "cell_type": "markdown",
   "source": [
    "## 項目3 bytesとstrの違い"
   ],
   "metadata": {}
  },
  {
   "cell_type": "code",
   "execution_count": 15,
   "source": [
    "a = b'h\\x65llo'\r\n",
    "print(list(a))\r\n",
    "print(a)"
   ],
   "outputs": [
    {
     "output_type": "stream",
     "name": "stdout",
     "text": [
      "[104, 101, 108, 108, 111]\n",
      "b'hello'\n"
     ]
    }
   ],
   "metadata": {}
  },
  {
   "cell_type": "code",
   "execution_count": 18,
   "source": [
    "a = 'a\\u0300 propos'\r\n",
    "print(list(a))\r\n",
    "print(a)"
   ],
   "outputs": [
    {
     "output_type": "stream",
     "name": "stdout",
     "text": [
      "['a', '̀', ' ', 'p', 'r', 'o', 'p', 'o', 's']\n",
      "à propos\n"
     ]
    }
   ],
   "metadata": {}
  },
  {
   "cell_type": "markdown",
   "source": [
    "Unicodeサンドイッチ（strとbytesの違いで処理に誤りがおきるので変換する）"
   ],
   "metadata": {}
  },
  {
   "cell_type": "code",
   "execution_count": 21,
   "source": [
    "def to_str(bytes_or_str):\r\n",
    "    if isinstance(bytes_or_str, bytes):\r\n",
    "        value = bytes_or_str.decode('utf-8')\r\n",
    "    else:\r\n",
    "        value = bytes_or_str\r\n",
    "    return value # str instance\r\n",
    "\r\n",
    "print(repr(to_str(b'foo')))\r\n",
    "print(repr(to_str('bar')))"
   ],
   "outputs": [
    {
     "output_type": "stream",
     "name": "stdout",
     "text": [
      "'foo'\n",
      "'bar'\n"
     ]
    }
   ],
   "metadata": {}
  },
  {
   "cell_type": "code",
   "execution_count": 23,
   "source": [
    "def to_bytes(bytes_or_str):\r\n",
    "    if isinstance(bytes_or_str, str):\r\n",
    "        value = bytes_or_str.encode('utf-8')\r\n",
    "    else:\r\n",
    "        value = bytes_or_str\r\n",
    "    return value # bytes instance\r\n",
    "\r\n",
    "print(repr(to_bytes(b'foo')))\r\n",
    "print(repr(to_bytes('bar')))"
   ],
   "outputs": [
    {
     "output_type": "stream",
     "name": "stdout",
     "text": [
      "b'foo'\n",
      "b'bar'\n"
     ]
    }
   ],
   "metadata": {}
  },
  {
   "cell_type": "markdown",
   "source": [
    "その他の注意\r\n",
    "\r\n",
    "* strとbytesでは同じように扱えない\r\n",
    "  * str、bytes同士は+演算子で結合できる、比較、同値チェックができる\r\n",
    "    * str、bytes間ではできないので注意"
   ],
   "metadata": {}
  },
  {
   "cell_type": "code",
   "execution_count": null,
   "source": [],
   "outputs": [],
   "metadata": {}
  }
 ],
 "metadata": {
  "orig_nbformat": 4,
  "language_info": {
   "name": "python",
   "version": "3.8.5",
   "mimetype": "text/x-python",
   "codemirror_mode": {
    "name": "ipython",
    "version": 3
   },
   "pygments_lexer": "ipython3",
   "nbconvert_exporter": "python",
   "file_extension": ".py"
  },
  "kernelspec": {
   "name": "python3",
   "display_name": "Python 3.8.5 64-bit ('base': conda)"
  },
  "interpreter": {
   "hash": "d83dbcc7646c70cde7bb50469f08ead150ddfa1080a7fca0fcb71d2335734441"
  }
 },
 "nbformat": 4,
 "nbformat_minor": 2
}