{
 "cells": [
  {
   "cell_type": "markdown",
   "source": [
    "## 項目1 使用するPythonのバージョンを知っておく"
   ],
   "metadata": {}
  },
  {
   "cell_type": "code",
   "execution_count": 58,
   "source": [
    "!python --version"
   ],
   "outputs": [
    {
     "output_type": "stream",
     "name": "stdout",
     "text": [
      "Python 3.8.5\n"
     ]
    }
   ],
   "metadata": {}
  },
  {
   "cell_type": "code",
   "execution_count": 59,
   "source": [
    "import sys\r\n",
    "print(sys.version_info)\r\n",
    "print(sys.version)"
   ],
   "outputs": [
    {
     "output_type": "stream",
     "name": "stdout",
     "text": [
      "sys.version_info(major=3, minor=8, micro=5, releaselevel='final', serial=0)\n",
      "3.8.5 (default, Sep  3 2020, 21:29:08) [MSC v.1916 64 bit (AMD64)]\n"
     ]
    }
   ],
   "metadata": {}
  },
  {
   "cell_type": "markdown",
   "source": [
    "## 項目2 PEP8スタイルガイドに従う\r\n",
    "\r\n",
    "以下のスタイルガイドがある。\r\n",
    "\r\n",
    "* 空白\r\n",
    "* 名前付け\r\n",
    "* 式と文\r\n",
    "* インポート"
   ],
   "metadata": {}
  },
  {
   "cell_type": "markdown",
   "source": [
    "## 項目3 bytesとstrの違い"
   ],
   "metadata": {}
  },
  {
   "cell_type": "code",
   "execution_count": 60,
   "source": [
    "a = b'h\\x65llo'\r\n",
    "print(list(a))\r\n",
    "print(a)"
   ],
   "outputs": [
    {
     "output_type": "stream",
     "name": "stdout",
     "text": [
      "[104, 101, 108, 108, 111]\n",
      "b'hello'\n"
     ]
    }
   ],
   "metadata": {}
  },
  {
   "cell_type": "code",
   "execution_count": 61,
   "source": [
    "a = 'a\\u0300 propos'\r\n",
    "print(list(a))\r\n",
    "print(a)"
   ],
   "outputs": [
    {
     "output_type": "stream",
     "name": "stdout",
     "text": [
      "['a', '̀', ' ', 'p', 'r', 'o', 'p', 'o', 's']\n",
      "à propos\n"
     ]
    }
   ],
   "metadata": {}
  },
  {
   "cell_type": "markdown",
   "source": [
    "Unicodeサンドイッチ（strとbytesの違いで処理に誤りがおきるので変換する）"
   ],
   "metadata": {}
  },
  {
   "cell_type": "code",
   "execution_count": 62,
   "source": [
    "def to_str(bytes_or_str):\r\n",
    "    if isinstance(bytes_or_str, bytes):\r\n",
    "        value = bytes_or_str.decode('utf-8')\r\n",
    "    else:\r\n",
    "        value = bytes_or_str\r\n",
    "    return value # str instance\r\n",
    "\r\n",
    "print(repr(to_str(b'foo')))\r\n",
    "print(repr(to_str('bar')))"
   ],
   "outputs": [
    {
     "output_type": "stream",
     "name": "stdout",
     "text": [
      "'foo'\n",
      "'bar'\n"
     ]
    }
   ],
   "metadata": {}
  },
  {
   "cell_type": "code",
   "execution_count": 63,
   "source": [
    "def to_bytes(bytes_or_str):\r\n",
    "    if isinstance(bytes_or_str, str):\r\n",
    "        value = bytes_or_str.encode('utf-8')\r\n",
    "    else:\r\n",
    "        value = bytes_or_str\r\n",
    "    return value # bytes instance\r\n",
    "\r\n",
    "print(repr(to_bytes(b'foo')))\r\n",
    "print(repr(to_bytes('bar')))"
   ],
   "outputs": [
    {
     "output_type": "stream",
     "name": "stdout",
     "text": [
      "b'foo'\n",
      "b'bar'\n"
     ]
    }
   ],
   "metadata": {}
  },
  {
   "cell_type": "markdown",
   "source": [
    "その他の注意\r\n",
    "\r\n",
    "* strとbytesでは同じように扱えない\r\n",
    "  * str、bytes同士は+演算子で結合できる、比較、同値チェックができる\r\n",
    "    * str、bytes間ではできないので注意"
   ],
   "metadata": {}
  },
  {
   "cell_type": "code",
   "execution_count": 64,
   "source": [
    "print(b'one', b'two')\r\n",
    "print('one' + 'two')"
   ],
   "outputs": [
    {
     "output_type": "stream",
     "name": "stdout",
     "text": [
      "b'one' b'two'\n",
      "onetwo\n"
     ]
    }
   ],
   "metadata": {}
  },
  {
   "cell_type": "code",
   "execution_count": 65,
   "source": [
    "b'one' + 'two'"
   ],
   "outputs": [
    {
     "output_type": "error",
     "ename": "TypeError",
     "evalue": "can't concat str to bytes",
     "traceback": [
      "\u001b[1;31m---------------------------------------------------------------------------\u001b[0m",
      "\u001b[1;31mTypeError\u001b[0m                                 Traceback (most recent call last)",
      "\u001b[1;32m<ipython-input-65-f531e85f0fca>\u001b[0m in \u001b[0;36m<module>\u001b[1;34m\u001b[0m\n\u001b[1;32m----> 1\u001b[1;33m \u001b[1;34mb'one'\u001b[0m \u001b[1;33m+\u001b[0m \u001b[1;34m'two'\u001b[0m\u001b[1;33m\u001b[0m\u001b[1;33m\u001b[0m\u001b[0m\n\u001b[0m",
      "\u001b[1;31mTypeError\u001b[0m: can't concat str to bytes"
     ]
    }
   ],
   "metadata": {}
  },
  {
   "cell_type": "code",
   "execution_count": null,
   "source": [
    "'one' + b'two'"
   ],
   "outputs": [
    {
     "output_type": "error",
     "ename": "TypeError",
     "evalue": "can only concatenate str (not \"bytes\") to str",
     "traceback": [
      "\u001b[1;31m---------------------------------------------------------------------------\u001b[0m",
      "\u001b[1;31mTypeError\u001b[0m                                 Traceback (most recent call last)",
      "\u001b[1;32m<ipython-input-4-4bf1340b6409>\u001b[0m in \u001b[0;36m<module>\u001b[1;34m\u001b[0m\n\u001b[1;32m----> 1\u001b[1;33m \u001b[1;34m'one'\u001b[0m \u001b[1;33m+\u001b[0m \u001b[1;34mb'two'\u001b[0m\u001b[1;33m\u001b[0m\u001b[1;33m\u001b[0m\u001b[0m\n\u001b[0m",
      "\u001b[1;31mTypeError\u001b[0m: can only concatenate str (not \"bytes\") to str"
     ]
    }
   ],
   "metadata": {}
  },
  {
   "cell_type": "code",
   "execution_count": null,
   "source": [
    "assert b'red' > b'blue'\r\n",
    "assert 'red' > 'blue'"
   ],
   "outputs": [],
   "metadata": {}
  },
  {
   "cell_type": "code",
   "execution_count": null,
   "source": [
    "assert 'red' > b'blue'"
   ],
   "outputs": [
    {
     "output_type": "error",
     "ename": "TypeError",
     "evalue": "'>' not supported between instances of 'str' and 'bytes'",
     "traceback": [
      "\u001b[1;31m---------------------------------------------------------------------------\u001b[0m",
      "\u001b[1;31mTypeError\u001b[0m                                 Traceback (most recent call last)",
      "\u001b[1;32m<ipython-input-7-51b54d0b93a4>\u001b[0m in \u001b[0;36m<module>\u001b[1;34m\u001b[0m\n\u001b[1;32m----> 1\u001b[1;33m \u001b[1;32massert\u001b[0m \u001b[1;34m'red'\u001b[0m \u001b[1;33m>\u001b[0m \u001b[1;34mb'blue'\u001b[0m\u001b[1;33m\u001b[0m\u001b[1;33m\u001b[0m\u001b[0m\n\u001b[0m",
      "\u001b[1;31mTypeError\u001b[0m: '>' not supported between instances of 'str' and 'bytes'"
     ]
    }
   ],
   "metadata": {}
  },
  {
   "cell_type": "code",
   "execution_count": null,
   "source": [
    "assert b'blue' < 'red'"
   ],
   "outputs": [
    {
     "output_type": "error",
     "ename": "TypeError",
     "evalue": "'<' not supported between instances of 'bytes' and 'str'",
     "traceback": [
      "\u001b[1;31m---------------------------------------------------------------------------\u001b[0m",
      "\u001b[1;31mTypeError\u001b[0m                                 Traceback (most recent call last)",
      "\u001b[1;32m<ipython-input-9-fa081c15c05c>\u001b[0m in \u001b[0;36m<module>\u001b[1;34m\u001b[0m\n\u001b[1;32m----> 1\u001b[1;33m \u001b[1;32massert\u001b[0m \u001b[1;34mb'blue'\u001b[0m \u001b[1;33m<\u001b[0m \u001b[1;34m'red'\u001b[0m\u001b[1;33m\u001b[0m\u001b[1;33m\u001b[0m\u001b[0m\n\u001b[0m",
      "\u001b[1;31mTypeError\u001b[0m: '<' not supported between instances of 'bytes' and 'str'"
     ]
    }
   ],
   "metadata": {}
  },
  {
   "cell_type": "code",
   "execution_count": null,
   "source": [
    "print(b'foo' == 'foo')"
   ],
   "outputs": [
    {
     "output_type": "stream",
     "name": "stdout",
     "text": [
      "False\n"
     ]
    }
   ],
   "metadata": {}
  },
  {
   "cell_type": "code",
   "execution_count": null,
   "source": [
    "print(b'red %s' % b'blue')\r\n",
    "print('red %s' % 'blue')"
   ],
   "outputs": [
    {
     "output_type": "stream",
     "name": "stdout",
     "text": [
      "b'red blue'\n",
      "red blue\n"
     ]
    }
   ],
   "metadata": {}
  },
  {
   "cell_type": "code",
   "execution_count": null,
   "source": [
    "print(b'red %s' % 'blue')"
   ],
   "outputs": [
    {
     "output_type": "error",
     "ename": "TypeError",
     "evalue": "%b requires a bytes-like object, or an object that implements __bytes__, not 'str'",
     "traceback": [
      "\u001b[1;31m---------------------------------------------------------------------------\u001b[0m",
      "\u001b[1;31mTypeError\u001b[0m                                 Traceback (most recent call last)",
      "\u001b[1;32m<ipython-input-12-996799a8aced>\u001b[0m in \u001b[0;36m<module>\u001b[1;34m\u001b[0m\n\u001b[1;32m----> 1\u001b[1;33m \u001b[0mprint\u001b[0m\u001b[1;33m(\u001b[0m\u001b[1;34mb'red %s'\u001b[0m \u001b[1;33m%\u001b[0m \u001b[1;34m'blue'\u001b[0m\u001b[1;33m)\u001b[0m\u001b[1;33m\u001b[0m\u001b[1;33m\u001b[0m\u001b[0m\n\u001b[0m",
      "\u001b[1;31mTypeError\u001b[0m: %b requires a bytes-like object, or an object that implements __bytes__, not 'str'"
     ]
    }
   ],
   "metadata": {}
  },
  {
   "cell_type": "code",
   "execution_count": null,
   "source": [
    "# bytesの__repr__によって b'blue' がそのまま表示される\r\n",
    "print('red %s' % b'blue')"
   ],
   "outputs": [
    {
     "output_type": "stream",
     "name": "stdout",
     "text": [
      "red b'blue'\n"
     ]
    }
   ],
   "metadata": {}
  },
  {
   "cell_type": "markdown",
   "source": [
    "ファイル書き込み（バイナリ、文字列の出力）"
   ],
   "metadata": {}
  },
  {
   "cell_type": "code",
   "execution_count": null,
   "source": [
    "with open('./random.bin', 'w') as f:\r\n",
    "    f.write(b'\\xf1\\xf2\\xf3\\xf4\\xf5')"
   ],
   "outputs": [
    {
     "output_type": "error",
     "ename": "TypeError",
     "evalue": "write() argument must be str, not bytes",
     "traceback": [
      "\u001b[1;31m---------------------------------------------------------------------------\u001b[0m",
      "\u001b[1;31mTypeError\u001b[0m                                 Traceback (most recent call last)",
      "\u001b[1;32m<ipython-input-27-e901ec028e54>\u001b[0m in \u001b[0;36m<module>\u001b[1;34m\u001b[0m\n\u001b[0;32m      1\u001b[0m \u001b[1;32mwith\u001b[0m \u001b[0mopen\u001b[0m\u001b[1;33m(\u001b[0m\u001b[1;34m'chapter01/random.bin'\u001b[0m\u001b[1;33m,\u001b[0m \u001b[1;34m'w'\u001b[0m\u001b[1;33m)\u001b[0m \u001b[1;32mas\u001b[0m \u001b[0mf\u001b[0m\u001b[1;33m:\u001b[0m\u001b[1;33m\u001b[0m\u001b[1;33m\u001b[0m\u001b[0m\n\u001b[1;32m----> 2\u001b[1;33m     \u001b[0mf\u001b[0m\u001b[1;33m.\u001b[0m\u001b[0mwrite\u001b[0m\u001b[1;33m(\u001b[0m\u001b[1;34mb'\\xf1\\xf2\\xf3\\xf4\\xf5'\u001b[0m\u001b[1;33m)\u001b[0m\u001b[1;33m\u001b[0m\u001b[1;33m\u001b[0m\u001b[0m\n\u001b[0m",
      "\u001b[1;31mTypeError\u001b[0m: write() argument must be str, not bytes"
     ]
    }
   ],
   "metadata": {}
  },
  {
   "cell_type": "code",
   "execution_count": null,
   "source": [
    "with open('./random.bin', 'wb') as f:\r\n",
    "    f.write(b'\\xf1\\xf2\\xf3\\xf4\\xf5')"
   ],
   "outputs": [],
   "metadata": {}
  },
  {
   "cell_type": "code",
   "execution_count": null,
   "source": [
    "with open('./random.bin', 'r') as f:\r\n",
    "    data = f.read()"
   ],
   "outputs": [
    {
     "output_type": "error",
     "ename": "UnicodeDecodeError",
     "evalue": "'cp932' codec can't decode byte 0xf5 in position 4: incomplete multibyte sequence",
     "traceback": [
      "\u001b[1;31m---------------------------------------------------------------------------\u001b[0m",
      "\u001b[1;31mUnicodeDecodeError\u001b[0m                        Traceback (most recent call last)",
      "\u001b[1;32m<ipython-input-29-3f570dd75c93>\u001b[0m in \u001b[0;36m<module>\u001b[1;34m\u001b[0m\n\u001b[0;32m      1\u001b[0m \u001b[1;32mwith\u001b[0m \u001b[0mopen\u001b[0m\u001b[1;33m(\u001b[0m\u001b[1;34m'chapter01/random.bin'\u001b[0m\u001b[1;33m,\u001b[0m \u001b[1;34m'r'\u001b[0m\u001b[1;33m)\u001b[0m \u001b[1;32mas\u001b[0m \u001b[0mf\u001b[0m\u001b[1;33m:\u001b[0m\u001b[1;33m\u001b[0m\u001b[1;33m\u001b[0m\u001b[0m\n\u001b[1;32m----> 2\u001b[1;33m     \u001b[0mdata\u001b[0m \u001b[1;33m=\u001b[0m \u001b[0mf\u001b[0m\u001b[1;33m.\u001b[0m\u001b[0mread\u001b[0m\u001b[1;33m(\u001b[0m\u001b[1;33m)\u001b[0m\u001b[1;33m\u001b[0m\u001b[1;33m\u001b[0m\u001b[0m\n\u001b[0m",
      "\u001b[1;31mUnicodeDecodeError\u001b[0m: 'cp932' codec can't decode byte 0xf5 in position 4: incomplete multibyte sequence"
     ]
    }
   ],
   "metadata": {}
  },
  {
   "cell_type": "code",
   "execution_count": null,
   "source": [
    "with open('chapter01/random.bin', 'rb') as f:\r\n",
    "    data = f.read()\r\n",
    "assert data == b'\\xf1\\xf2\\xf3\\xf4\\xf5'"
   ],
   "outputs": [],
   "metadata": {}
  },
  {
   "cell_type": "code",
   "execution_count": null,
   "source": [
    "with open('chapter01/random.bin', 'r', encoding='cp1252') as f:\r\n",
    "    data = f.read()\r\n",
    "\r\n",
    "assert data == 'ñòóôõ'"
   ],
   "outputs": [],
   "metadata": {}
  },
  {
   "cell_type": "markdown",
   "source": [
    "## 項目4 Cスタイルフォーマット文字列とstr.formatは使わずf文字列で埋め込む"
   ],
   "metadata": {}
  },
  {
   "cell_type": "markdown",
   "source": [
    "### %による方法\r\n",
    "\r\n",
    "* Cスタイルに慣れていればそのまま使える\r\n",
    "* フォーマットの型を揃える必要がある（順序が変わるとフォーマット側も変える必要がある）\r\n",
    "* 辞書型で渡すことができるがコードが冗長になる"
   ],
   "metadata": {}
  },
  {
   "cell_type": "code",
   "execution_count": null,
   "source": [
    "a = 0b10111011\r\n",
    "b = 0xc5f\r\n",
    "print('Binary is %d, hex is %d' % (a,b))"
   ],
   "outputs": [
    {
     "output_type": "stream",
     "name": "stdout",
     "text": [
      "Binary is 187, hex is 3167\n"
     ]
    }
   ],
   "metadata": {}
  },
  {
   "cell_type": "code",
   "execution_count": null,
   "source": [
    "key = 'my_var'\r\n",
    "value = 1.234\r\n",
    "formatted = '%-10s = %.2f' % (key, value)\r\n",
    "print(formatted)"
   ],
   "outputs": [
    {
     "output_type": "stream",
     "name": "stdout",
     "text": [
      "my_var     = 1.23\n"
     ]
    }
   ],
   "metadata": {}
  },
  {
   "cell_type": "code",
   "execution_count": null,
   "source": [
    "key = 'my_var'\r\n",
    "value = 1.234\r\n",
    "formatted = '%-10s = %.2f' % (value, key)\r\n",
    "print(formatted)"
   ],
   "outputs": [
    {
     "output_type": "error",
     "ename": "TypeError",
     "evalue": "must be real number, not str",
     "traceback": [
      "\u001b[1;31m---------------------------------------------------------------------------\u001b[0m",
      "\u001b[1;31mTypeError\u001b[0m                                 Traceback (most recent call last)",
      "\u001b[1;32m<ipython-input-37-ff04ed14c066>\u001b[0m in \u001b[0;36m<module>\u001b[1;34m\u001b[0m\n\u001b[0;32m      1\u001b[0m \u001b[0mkey\u001b[0m \u001b[1;33m=\u001b[0m \u001b[1;34m'my_var'\u001b[0m\u001b[1;33m\u001b[0m\u001b[1;33m\u001b[0m\u001b[0m\n\u001b[0;32m      2\u001b[0m \u001b[0mvalue\u001b[0m \u001b[1;33m=\u001b[0m \u001b[1;36m1.234\u001b[0m\u001b[1;33m\u001b[0m\u001b[1;33m\u001b[0m\u001b[0m\n\u001b[1;32m----> 3\u001b[1;33m \u001b[0mformatted\u001b[0m \u001b[1;33m=\u001b[0m \u001b[1;34m'%-10s = %.2f'\u001b[0m \u001b[1;33m%\u001b[0m \u001b[1;33m(\u001b[0m\u001b[0mvalue\u001b[0m\u001b[1;33m,\u001b[0m \u001b[0mkey\u001b[0m\u001b[1;33m)\u001b[0m\u001b[1;33m\u001b[0m\u001b[1;33m\u001b[0m\u001b[0m\n\u001b[0m\u001b[0;32m      4\u001b[0m \u001b[0mprint\u001b[0m\u001b[1;33m(\u001b[0m\u001b[0mformatted\u001b[0m\u001b[1;33m)\u001b[0m\u001b[1;33m\u001b[0m\u001b[1;33m\u001b[0m\u001b[0m\n",
      "\u001b[1;31mTypeError\u001b[0m: must be real number, not str"
     ]
    }
   ],
   "metadata": {}
  },
  {
   "cell_type": "code",
   "execution_count": null,
   "source": [
    "key = 'my_var'\r\n",
    "value = 1.234\r\n",
    "formatted = '%.2f = %-10s' % (key, value)\r\n",
    "print(formatted)"
   ],
   "outputs": [
    {
     "output_type": "error",
     "ename": "TypeError",
     "evalue": "must be real number, not str",
     "traceback": [
      "\u001b[1;31m---------------------------------------------------------------------------\u001b[0m",
      "\u001b[1;31mTypeError\u001b[0m                                 Traceback (most recent call last)",
      "\u001b[1;32m<ipython-input-39-61e04136e9cc>\u001b[0m in \u001b[0;36m<module>\u001b[1;34m\u001b[0m\n\u001b[0;32m      1\u001b[0m \u001b[0mkey\u001b[0m \u001b[1;33m=\u001b[0m \u001b[1;34m'my_var'\u001b[0m\u001b[1;33m\u001b[0m\u001b[1;33m\u001b[0m\u001b[0m\n\u001b[0;32m      2\u001b[0m \u001b[0mvalue\u001b[0m \u001b[1;33m=\u001b[0m \u001b[1;36m1.234\u001b[0m\u001b[1;33m\u001b[0m\u001b[1;33m\u001b[0m\u001b[0m\n\u001b[1;32m----> 3\u001b[1;33m \u001b[0mformatted\u001b[0m \u001b[1;33m=\u001b[0m \u001b[1;34m'%.2f = %-10s'\u001b[0m \u001b[1;33m%\u001b[0m \u001b[1;33m(\u001b[0m\u001b[0mkey\u001b[0m\u001b[1;33m,\u001b[0m \u001b[0mvalue\u001b[0m\u001b[1;33m)\u001b[0m\u001b[1;33m\u001b[0m\u001b[1;33m\u001b[0m\u001b[0m\n\u001b[0m\u001b[0;32m      4\u001b[0m \u001b[0mprint\u001b[0m\u001b[1;33m(\u001b[0m\u001b[0mformatted\u001b[0m\u001b[1;33m)\u001b[0m\u001b[1;33m\u001b[0m\u001b[1;33m\u001b[0m\u001b[0m\n",
      "\u001b[1;31mTypeError\u001b[0m: must be real number, not str"
     ]
    }
   ],
   "metadata": {}
  },
  {
   "cell_type": "code",
   "execution_count": null,
   "source": [
    "pantry = [\r\n",
    "    ('avocados', 1.25),\r\n",
    "    ('bananas', 2.5),\r\n",
    "    ('cherries', 15),\r\n",
    "]\r\n",
    "for i, (item, count) in enumerate(pantry):\r\n",
    "    print('#%d: %-10s = %.2f' % (i, item, count))"
   ],
   "outputs": [
    {
     "output_type": "stream",
     "name": "stdout",
     "text": [
      "#0: avocados   = 1.25\n",
      "#1: bananas    = 2.50\n",
      "#2: cherries   = 15.00\n"
     ]
    }
   ],
   "metadata": {}
  },
  {
   "cell_type": "code",
   "execution_count": null,
   "source": [
    "# 書き換える必要がある\r\n",
    "for i, (item, count) in enumerate(pantry):\r\n",
    "    print('#%d: %-10s = %d' % (i, item, round(count)))"
   ],
   "outputs": [
    {
     "output_type": "stream",
     "name": "stdout",
     "text": [
      "#0: avocados   = 1\n",
      "#1: bananas    = 2\n",
      "#2: cherries   = 15\n"
     ]
    }
   ],
   "metadata": {}
  },
  {
   "cell_type": "code",
   "execution_count": null,
   "source": [
    "# 問題：nameを2回記述する必要がある\r\n",
    "template = '%s loves food. See %s cook.'\r\n",
    "name = 'Max'\r\n",
    "formatted = template % (name, name)\r\n",
    "print(formatted)"
   ],
   "outputs": [
    {
     "output_type": "stream",
     "name": "stdout",
     "text": [
      "Max loves food. See Max cook.\n"
     ]
    }
   ],
   "metadata": {}
  },
  {
   "cell_type": "code",
   "execution_count": null,
   "source": [
    "# 問題：メソッドを使う場合さらに長くなる\r\n",
    "name = 'brad'\r\n",
    "formatted = template % (name.title(), name.title())\r\n",
    "print(formatted)"
   ],
   "outputs": [
    {
     "output_type": "stream",
     "name": "stdout",
     "text": [
      "Brad loves food. See Brad cook.\n"
     ]
    }
   ],
   "metadata": {}
  },
  {
   "cell_type": "code",
   "execution_count": null,
   "source": [
    "# 解決：辞書型で渡すと交代もできる\r\n",
    "key = 'my_var'\r\n",
    "value = 1.234\r\n",
    "\r\n",
    "old_way = '%-10s = %.2f' % (key, value)\r\n",
    "\r\n",
    "new_way = '%(key)-10s = %(value).2f' % {\r\n",
    "    'key': key, 'value': value\r\n",
    "}\r\n",
    "\r\n",
    "reordered = '%(key)-10s = %(value).2f' % {\r\n",
    "    'value': value, 'key': key\r\n",
    "}\r\n",
    "\r\n",
    "assert old_way == new_way == reordered"
   ],
   "outputs": [],
   "metadata": {}
  },
  {
   "cell_type": "code",
   "execution_count": null,
   "source": [
    "# 解決：辞書型だと2つ入れずに入力できる\r\n",
    "name = 'Max'\r\n",
    "\r\n",
    "template = '%s loves food. See %s cook.'\r\n",
    "before = template % (name, name)\r\n",
    "\r\n",
    "template = '%(name)s loves food. See %(name)s cook.'\r\n",
    "after = template % {'name': name}\r\n",
    "\r\n",
    "assert after == before"
   ],
   "outputs": [],
   "metadata": {}
  },
  {
   "cell_type": "code",
   "execution_count": null,
   "source": [
    "# 問題：変数とフォーマットをいれると冗長になる\r\n",
    "for i, (item, count) in enumerate(pantry):\r\n",
    "    before = '#%d: %-10s = %d' % (\r\n",
    "        i + 1,\r\n",
    "        item.title(),\r\n",
    "        round(count)\r\n",
    "    )\r\n",
    "\r\n",
    "    after = '#%(loop)d: %(item)-10s = %(count)d' % {\r\n",
    "        'loop': i + 1,\r\n",
    "        'item': item.title(),\r\n",
    "        'count': round(count)\r\n",
    "    }\r\n",
    "\r\n",
    "    assert before == after"
   ],
   "outputs": [],
   "metadata": {}
  },
  {
   "cell_type": "code",
   "execution_count": null,
   "source": [
    "soup = 'lentil'\r\n",
    "formatted = 'Today\\'s soup is %(soup)s.' % {'soup': soup}\r\n",
    "print(formatted)"
   ],
   "outputs": [
    {
     "output_type": "stream",
     "name": "stdout",
     "text": [
      "Today's soup is lentil.\n"
     ]
    }
   ],
   "metadata": {}
  },
  {
   "cell_type": "code",
   "execution_count": null,
   "source": [
    "menu = {\r\n",
    "    'soup': 'lenti',\r\n",
    "    'oyster': 'kumamoto',\r\n",
    "    'special': 'schnitzel',\r\n",
    "}\r\n",
    "template = ('Today\\'s soup is %(soup)s, '\r\n",
    "            'buy one get two %(oyster)s oysters,'\r\n",
    "            'and ourt special entree is %(special)s.')\r\n",
    "formatted = template % menu\r\n",
    "print(formatted)"
   ],
   "outputs": [
    {
     "output_type": "stream",
     "name": "stdout",
     "text": [
      "Today's soup is lenti, buy one get two kumamoto oysters,and ourt special entree is schnitzel.\n"
     ]
    }
   ],
   "metadata": {}
  },
  {
   "cell_type": "markdown",
   "source": [
    "### 組み込みのformatとstr.format\r\n",
    "\r\n",
    "* %演算子と比べると型指定せずにプレースホルダが使える利点がある\r\n",
    "    * 型指定がないので順序変更に強い\r\n",
    "* それ以外については記法が違うもののメリット・デメリットに大きな差はない"
   ],
   "metadata": {}
  },
  {
   "cell_type": "code",
   "execution_count": null,
   "source": [
    "a = 1234.5678\r\n",
    "formatted = format(a, ',.2f')\r\n",
    "print(formatted)\r\n",
    "\r\n",
    "b = 'my string'\r\n",
    "formatted = format(b, '^20s')\r\n",
    "print('*', formatted, '*')"
   ],
   "outputs": [
    {
     "output_type": "stream",
     "name": "stdout",
     "text": [
      "1,234.57\n",
      "*      my string       *\n"
     ]
    }
   ],
   "metadata": {}
  },
  {
   "cell_type": "code",
   "execution_count": null,
   "source": [
    "key = 'my_var'\r\n",
    "value = 1.234\r\n",
    "\r\n",
    "formatted = '{} = {}'.format(key, value)\r\n",
    "print(formatted)"
   ],
   "outputs": [
    {
     "output_type": "stream",
     "name": "stdout",
     "text": [
      "my_var = 1.234\n"
     ]
    }
   ],
   "metadata": {}
  },
  {
   "cell_type": "code",
   "execution_count": null,
   "source": [
    "formatted = '{:<10} = {:.2f}'.format(key, value)\r\n",
    "print(formatted)"
   ],
   "outputs": [
    {
     "output_type": "stream",
     "name": "stdout",
     "text": [
      "my_var     = 1.23\n"
     ]
    }
   ],
   "metadata": {}
  },
  {
   "cell_type": "code",
   "execution_count": null,
   "source": [
    "# エスケープ\r\n",
    "print('%.2f%%' % 12.5)\r\n",
    "print('{} replaces {{}}'.format(1.23))"
   ],
   "outputs": [
    {
     "output_type": "stream",
     "name": "stdout",
     "text": [
      "12.50%\n",
      "1.23 replaces {}\n"
     ]
    }
   ],
   "metadata": {}
  },
  {
   "cell_type": "code",
   "execution_count": null,
   "source": [
    "# プレースホルダに順序指定ができる\r\n",
    "formatted = '{1} = {0}'.format(key, value)\r\n",
    "print(formatted)"
   ],
   "outputs": [
    {
     "output_type": "stream",
     "name": "stdout",
     "text": [
      "1.234 = my_var\n"
     ]
    }
   ],
   "metadata": {}
  },
  {
   "cell_type": "code",
   "execution_count": null,
   "source": [
    "# プレースホルダに順序をいれることで重複を省略できる\r\n",
    "formatted = '{0} loves food. See {0} cook.'.format(name)\r\n",
    "print(formatted)"
   ],
   "outputs": [
    {
     "output_type": "stream",
     "name": "stdout",
     "text": [
      "Max loves food. See Max cook.\n"
     ]
    }
   ],
   "metadata": {}
  },
  {
   "cell_type": "code",
   "execution_count": null,
   "source": [
    "# 変更に弱い点は変わらない\r\n",
    "for i, (item, count) in enumerate(pantry):\r\n",
    "    old_style = '#%d: %-10s = %d' % (\r\n",
    "        i + 1,\r\n",
    "        item.title(),\r\n",
    "        round(count),\r\n",
    "    )\r\n",
    "\r\n",
    "    new_style = '#{}: {:<10s} = {}'.format(\r\n",
    "        i + 1,\r\n",
    "        item.title(),\r\n",
    "        round(count),\r\n",
    "    )\r\n",
    "\r\n",
    "    assert old_style == new_style\r\n"
   ],
   "outputs": [],
   "metadata": {}
  },
  {
   "cell_type": "code",
   "execution_count": null,
   "source": [
    "# 辞書のキーと組み合わせることもできるaが、冗長性の解消にはならない\r\n",
    "formatted = 'First letter is {menu[oyster][0]!r}'.format(menu=menu)\r\n",
    "print(formatted)"
   ],
   "outputs": [
    {
     "output_type": "stream",
     "name": "stdout",
     "text": [
      "First letter is 'k'\n"
     ]
    }
   ],
   "metadata": {}
  },
  {
   "cell_type": "code",
   "execution_count": null,
   "source": [
    "# 辞書型の連携も冗長さは変わらない\r\n",
    "menu = {\r\n",
    "    'soup': 'lenti',\r\n",
    "    'oyster': 'kumamoto',\r\n",
    "    'special': 'schnitzel',\r\n",
    "}\r\n",
    "old_template = ('Today\\'s soup is %(soup)s, '\r\n",
    "            'buy one get two %(oyster)s oysters, '\r\n",
    "            'and our special entree is %(special)s.')\r\n",
    "old_formatted = old_template % menu\r\n",
    "\r\n",
    "new_template = (\r\n",
    "    'Today\\'s soup is {soup}, '\r\n",
    "    'buy one get two {oyster} oysters, '\r\n",
    "    'and our special entree is {special}.'\r\n",
    ")\r\n",
    "new_formatted = new_template.format(**menu)\r\n",
    "\r\n",
    "assert new_formatted == old_formatted"
   ],
   "outputs": [],
   "metadata": {}
  },
  {
   "cell_type": "markdown",
   "source": [
    "### フォーマット済み文字列\r\n",
    "\r\n",
    "Python3.6以降で登場。\r\n",
    "\r\n",
    "* formatや%と比較して重複がない"
   ],
   "metadata": {}
  },
  {
   "cell_type": "code",
   "execution_count": null,
   "source": [
    "key = 'my_var'\r\n",
    "value = 1.234\r\n",
    "\r\n",
    "formatted = f'{key} = {value}'\r\n",
    "print(formatted)"
   ],
   "outputs": [
    {
     "output_type": "stream",
     "name": "stdout",
     "text": [
      "my_var = 1.234\n"
     ]
    }
   ],
   "metadata": {}
  },
  {
   "cell_type": "code",
   "execution_count": null,
   "source": [
    "formatted = f'{key!r:<10} = {value:.2f}'\r\n",
    "print(formatted)"
   ],
   "outputs": [
    {
     "output_type": "stream",
     "name": "stdout",
     "text": [
      "'my_var'   = 1.23\n"
     ]
    }
   ],
   "metadata": {}
  },
  {
   "cell_type": "code",
   "execution_count": null,
   "source": [
    "f_string = f'{key:<10} = {value:.2f}'\r\n",
    "c_tuple = '%-10s = %.2f' % (key, value)\r\n",
    "str_args = '{:<10} = {:.2f}'.format(key, value)\r\n",
    "str_kw = '{key:<10} = {value:.2f}'.format(key=key, value=value)\r\n",
    "c_dict = '%(key)-10s = %(value).2f' % {'key': key, 'value': value}\r\n",
    "\r\n",
    "assert c_tuple == c_dict == f_string\r\n",
    "assert str_args == str_kw == f_string"
   ],
   "outputs": [],
   "metadata": {}
  },
  {
   "cell_type": "code",
   "execution_count": null,
   "source": [
    "pantry = [\r\n",
    "    ('a', 1.234),\r\n",
    "    ('b', 1.567),\r\n",
    "    ('c', 5.345),\r\n",
    "]\r\n",
    "for i, (item, count) in enumerate(pantry):\r\n",
    "    old_style = '#%d: %-10s = %d' % (\r\n",
    "        i + 1,\r\n",
    "        item.title(),\r\n",
    "        round(count),\r\n",
    "    )\r\n",
    "\r\n",
    "    new_style = '#{}: {:<10s} = {}'.format(\r\n",
    "        i + 1,\r\n",
    "        item.title(),\r\n",
    "        round(count),\r\n",
    "    )\r\n",
    "\r\n",
    "    f_string = f'#{i+1}: {item.title():<10s} = {round(count)}'\r\n",
    "\r\n",
    "    assert old_style == new_style == f_string"
   ],
   "outputs": [],
   "metadata": {}
  },
  {
   "cell_type": "code",
   "execution_count": null,
   "source": [
    "for i, (item, count) in enumerate(pantry):\r\n",
    "    print(f'#{i+1}: '\r\n",
    "            f'{item.title():<10s} = '\r\n",
    "            f'{round(count)}')\r\n"
   ],
   "outputs": [
    {
     "output_type": "stream",
     "name": "stdout",
     "text": [
      "#1: A          = 1\n",
      "#2: B          = 2\n",
      "#3: C          = 5\n"
     ]
    }
   ],
   "metadata": {}
  },
  {
   "cell_type": "code",
   "execution_count": null,
   "source": [
    "places = 3\r\n",
    "number = 1.23456\r\n",
    "print(f'My number is {number:.{places}f}')"
   ],
   "outputs": [
    {
     "output_type": "stream",
     "name": "stdout",
     "text": [
      "My number is 1.235\n"
     ]
    }
   ],
   "metadata": {}
  },
  {
   "cell_type": "markdown",
   "source": [
    "## 項目5 複雑な式の代わりにヘルパー関数を書く"
   ],
   "metadata": {}
  },
  {
   "cell_type": "code",
   "execution_count": null,
   "source": [
    "from urllib.parse import parse_qs\r\n",
    "\r\n",
    "my_values = parse_qs('red=5&blue=0&green=', keep_blank_values=True)\r\n",
    "print(repr(my_values))"
   ],
   "outputs": [
    {
     "output_type": "stream",
     "name": "stdout",
     "text": [
      "{'red': ['5'], 'blue': ['0'], 'green': ['']}\n"
     ]
    }
   ],
   "metadata": {}
  },
  {
   "cell_type": "code",
   "execution_count": null,
   "source": [
    "print('Red:     ', my_values.get('red'))\r\n",
    "print('Green:   ', my_values.get('green'))\r\n",
    "print('Opacity: ', my_values.get('opacity'))"
   ],
   "outputs": [
    {
     "output_type": "stream",
     "name": "stdout",
     "text": [
      "Red:      ['5']\n",
      "Green:    ['']\n",
      "Opacity:  None\n"
     ]
    }
   ],
   "metadata": {}
  },
  {
   "cell_type": "code",
   "execution_count": null,
   "source": [
    "red = my_values.get('red', [''])[0] or 0\r\n",
    "green = my_values.get('green', [''])[0] or 0\r\n",
    "opacity = my_values.get('opacity', [''])[0] or 0\r\n",
    "print(f'Red:     {red!r}')\r\n",
    "print(f'Green:   {green!r}')\r\n",
    "print(f'Opacity: {opacity!r}')"
   ],
   "outputs": [
    {
     "output_type": "stream",
     "name": "stdout",
     "text": [
      "Red:     '5'\n",
      "Green:   0\n",
      "Opacity: 0\n"
     ]
    }
   ],
   "metadata": {}
  },
  {
   "cell_type": "code",
   "execution_count": null,
   "source": [
    "red = int(my_values.get('red', [''])[0] or 0)"
   ],
   "outputs": [],
   "metadata": {}
  },
  {
   "cell_type": "code",
   "execution_count": null,
   "source": [
    "red_str = my_values.get('red', [''])\r\n",
    "red = int(red_str[0]) if red_str[0] else 0"
   ],
   "outputs": [],
   "metadata": {}
  },
  {
   "cell_type": "code",
   "execution_count": null,
   "source": [
    "green_str = my_values.get('green', [''])\r\n",
    "if green_str[0]:\r\n",
    "    green = int(green_str[0])\r\n",
    "else:\r\n",
    "    green = 0"
   ],
   "outputs": [],
   "metadata": {}
  },
  {
   "cell_type": "code",
   "execution_count": null,
   "source": [
    "def get_first_int(values, key, default=0):\r\n",
    "    found = values.get(key, [''])\r\n",
    "    if found[0]:\r\n",
    "        return int(found[0])\r\n",
    "    else:\r\n",
    "        return default"
   ],
   "outputs": [],
   "metadata": {}
  },
  {
   "cell_type": "code",
   "execution_count": null,
   "source": [
    "green = get_first_int(my_values, 'green')"
   ],
   "outputs": [],
   "metadata": {}
  },
  {
   "cell_type": "markdown",
   "source": [
    "## 項目6 インデックスではなく複数代入アンパックを使う"
   ],
   "metadata": {}
  },
  {
   "cell_type": "code",
   "execution_count": null,
   "source": [
    "snack_calories = {\r\n",
    "    'chips': 140,\r\n",
    "    'popcorn': 80,\r\n",
    "    'nuts': 190,\r\n",
    "}\r\n",
    "items = tuple(snack_calories.items())\r\n",
    "print(items)"
   ],
   "outputs": [
    {
     "output_type": "stream",
     "name": "stdout",
     "text": [
      "(('chips', 140), ('popcorn', 80), ('nuts', 190))\n"
     ]
    }
   ],
   "metadata": {}
  },
  {
   "cell_type": "code",
   "execution_count": null,
   "source": [
    "item = ('Peanut butter', 'Jelly')\r\n",
    "first = item[0]\r\n",
    "second = item[1]\r\n",
    "print(first, 'and', second)"
   ],
   "outputs": [
    {
     "output_type": "stream",
     "name": "stdout",
     "text": [
      "Peanut butter and Jelly\n"
     ]
    }
   ],
   "metadata": {}
  },
  {
   "cell_type": "code",
   "execution_count": null,
   "source": [
    "pair = ('Chocolate', 'Peanut butter')\r\n",
    "pair[0] = 'Honey'"
   ],
   "outputs": [
    {
     "output_type": "error",
     "ename": "TypeError",
     "evalue": "'tuple' object does not support item assignment",
     "traceback": [
      "\u001b[1;31m---------------------------------------------------------------------------\u001b[0m",
      "\u001b[1;31mTypeError\u001b[0m                                 Traceback (most recent call last)",
      "\u001b[1;32m<ipython-input-35-bebe4d73afed>\u001b[0m in \u001b[0;36m<module>\u001b[1;34m\u001b[0m\n\u001b[0;32m      1\u001b[0m \u001b[0mpair\u001b[0m \u001b[1;33m=\u001b[0m \u001b[1;33m(\u001b[0m\u001b[1;34m'Chocolate'\u001b[0m\u001b[1;33m,\u001b[0m \u001b[1;34m'Peanut butter'\u001b[0m\u001b[1;33m)\u001b[0m\u001b[1;33m\u001b[0m\u001b[1;33m\u001b[0m\u001b[0m\n\u001b[1;32m----> 2\u001b[1;33m \u001b[0mpair\u001b[0m\u001b[1;33m[\u001b[0m\u001b[1;36m0\u001b[0m\u001b[1;33m]\u001b[0m \u001b[1;33m=\u001b[0m \u001b[1;34m'Honey'\u001b[0m\u001b[1;33m\u001b[0m\u001b[1;33m\u001b[0m\u001b[0m\n\u001b[0m",
      "\u001b[1;31mTypeError\u001b[0m: 'tuple' object does not support item assignment"
     ]
    }
   ],
   "metadata": {}
  },
  {
   "cell_type": "code",
   "execution_count": null,
   "source": [
    "item = ('Peanut butter', 'Jelly')\r\n",
    "first, second = item #Unpack\r\n",
    "print(first, 'and', second)"
   ],
   "outputs": [
    {
     "output_type": "stream",
     "name": "stdout",
     "text": [
      "Peanut butter and Jelly\n"
     ]
    }
   ],
   "metadata": {}
  },
  {
   "cell_type": "code",
   "execution_count": null,
   "source": [
    "favorite_snacks = {\r\n",
    "    'salty': ('pretzels', 100),\r\n",
    "    'sweet': ('cookies', 180),\r\n",
    "    'veggie': ('carrots', 20),\r\n",
    "}\r\n",
    "\r\n",
    "(\r\n",
    "    (type1, (name1, cals1)),\r\n",
    "    (type2, (name2, cals2)),\r\n",
    "    (type3, (name3, cals3)),\r\n",
    ") = favorite_snacks.items()\r\n",
    "\r\n",
    "print(f'Favorite {type1} is {name1} with {cals1} calories')\r\n",
    "print(f'Favorite {type2} is {name2} with {cals2} calories')\r\n",
    "print(f'Favorite {type3} is {name3} with {cals3} calories')"
   ],
   "outputs": [
    {
     "output_type": "stream",
     "name": "stdout",
     "text": [
      "Favorite salty is pretzels with 100 calories\n",
      "Favorite sweet is cookies with 180 calories\n",
      "Favorite veggie is carrots with 20 calories\n"
     ]
    }
   ],
   "metadata": {}
  },
  {
   "cell_type": "code",
   "execution_count": null,
   "source": [
    "def bubble_sort(a):\r\n",
    "    for _ in range(len(a)):\r\n",
    "        for i in range(1, len(a)):\r\n",
    "            if a[i] < a[i-1]:\r\n",
    "                temp = a[i]\r\n",
    "                a[i] = a[i-1]\r\n",
    "                a[i-1] = temp\r\n",
    "names = ['pretzels', 'carrots', 'arugula', 'bacon']\r\n",
    "bubble_sort(names)\r\n",
    "print(names)"
   ],
   "outputs": [
    {
     "output_type": "stream",
     "name": "stdout",
     "text": [
      "['arugula', 'bacon', 'carrots', 'pretzels']\n"
     ]
    }
   ],
   "metadata": {}
  },
  {
   "cell_type": "code",
   "execution_count": null,
   "source": [
    "def bubble_sort(a):\r\n",
    "    for _ in range(len(a)):\r\n",
    "        for i in range(1, len(a)):\r\n",
    "            if a[i] < a[i-1]:\r\n",
    "                a[i-1], a[i] = a[i], a[i-1] #Swap\r\n",
    "names = ['pretzels', 'carrots', 'arugula', 'bacon']\r\n",
    "bubble_sort(names)\r\n",
    "print(names)"
   ],
   "outputs": [
    {
     "output_type": "stream",
     "name": "stdout",
     "text": [
      "['arugula', 'bacon', 'carrots', 'pretzels']\n"
     ]
    }
   ],
   "metadata": {}
  },
  {
   "cell_type": "code",
   "execution_count": null,
   "source": [
    "snacks = [('bacon', 350), ('donut', 240), ('muffin', 190)]\r\n",
    "for i in range(len(snacks)):\r\n",
    "    item = snacks[i]\r\n",
    "    name = item[0]\r\n",
    "    calories = item[1]\r\n",
    "    print(f'#{i+1}: {name} has {calories} calories')"
   ],
   "outputs": [
    {
     "output_type": "stream",
     "name": "stdout",
     "text": [
      "#1: bacon has 350 calories\n",
      "#2: donut has 240 calories\n",
      "#3: muffin has 190 calories\n"
     ]
    }
   ],
   "metadata": {}
  },
  {
   "cell_type": "code",
   "execution_count": null,
   "source": [
    "for rank, (name, calories) in enumerate(snacks, 1):\r\n",
    "    print(f'#{rank}: {name} has {calories} calories')"
   ],
   "outputs": [
    {
     "output_type": "stream",
     "name": "stdout",
     "text": [
      "#1: bacon has 350 calories\n",
      "#2: donut has 240 calories\n",
      "#3: muffin has 190 calories\n"
     ]
    }
   ],
   "metadata": {}
  },
  {
   "cell_type": "markdown",
   "source": [
    "## 項目7 rangeではなくenumerateを使う"
   ],
   "metadata": {}
  },
  {
   "cell_type": "code",
   "execution_count": null,
   "source": [
    "from random import randint\r\n",
    "\r\n",
    "random_bits = 0\r\n",
    "for i in range(64):\r\n",
    "    if randint(0, 1):\r\n",
    "            random_bits |= 1 << i\r\n",
    "print(bin(random_bits))"
   ],
   "outputs": [
    {
     "output_type": "stream",
     "name": "stdout",
     "text": [
      "0b11101111111111110001110001011111100111000001100110101100010100\n"
     ]
    }
   ],
   "metadata": {}
  },
  {
   "cell_type": "code",
   "execution_count": null,
   "source": [
    "flavor_list = ['vanilla', 'chocolate', 'pecan', 'strawberry']\r\n",
    "for flavor in flavor_list:\r\n",
    "    print(f'{flavor} is delicious')"
   ],
   "outputs": [
    {
     "output_type": "stream",
     "name": "stdout",
     "text": [
      "vanilla is delicious\n",
      "chocolate is delicious\n",
      "pecan is delicious\n",
      "strawberry is delicious\n"
     ]
    }
   ],
   "metadata": {}
  },
  {
   "cell_type": "code",
   "execution_count": null,
   "source": [
    "for i in range(len(flavor_list)):\r\n",
    "  flavor = flavor_list[i]\r\n",
    "  print(f'{i+1}: {flavor}')"
   ],
   "outputs": [
    {
     "output_type": "stream",
     "name": "stdout",
     "text": [
      "1: vanilla\n",
      "2: chocolate\n",
      "3: pecan\n",
      "4: strawberry\n"
     ]
    }
   ],
   "metadata": {}
  },
  {
   "cell_type": "code",
   "execution_count": null,
   "source": [
    "it = enumerate(flavor_list)\r\n",
    "print(next(it))\r\n",
    "print(next(it))"
   ],
   "outputs": [
    {
     "output_type": "stream",
     "name": "stdout",
     "text": [
      "(0, 'vanilla')\n",
      "(1, 'chocolate')\n"
     ]
    }
   ],
   "metadata": {}
  },
  {
   "cell_type": "code",
   "execution_count": null,
   "source": [
    "for i, flavor in enumerate(flavor_list):\r\n",
    "  print(f'{i + 1}: {flavor}')"
   ],
   "outputs": [
    {
     "output_type": "stream",
     "name": "stdout",
     "text": [
      "1: vanilla\n",
      "2: chocolate\n",
      "3: pecan\n",
      "4: strawberry\n"
     ]
    }
   ],
   "metadata": {}
  },
  {
   "cell_type": "code",
   "execution_count": null,
   "source": [
    "for i, flavor in enumerate(flavor_list, 1):\r\n",
    "  print(f'{i}: {flavor}')"
   ],
   "outputs": [
    {
     "output_type": "stream",
     "name": "stdout",
     "text": [
      "1: vanilla\n",
      "2: chocolate\n",
      "3: pecan\n",
      "4: strawberry\n"
     ]
    }
   ],
   "metadata": {}
  },
  {
   "cell_type": "markdown",
   "source": [
    "## 項目8 イテレータを並列に処理するにはzipを使う"
   ],
   "metadata": {}
  },
  {
   "cell_type": "code",
   "execution_count": null,
   "source": [
    "names =['Cecilia', 'Lise', 'Marie']\r\n",
    "counts = [len(n) for n in names]\r\n",
    "print(counts)"
   ],
   "outputs": [
    {
     "output_type": "stream",
     "name": "stdout",
     "text": [
      "[7, 4, 5]\n"
     ]
    }
   ],
   "metadata": {}
  },
  {
   "cell_type": "code",
   "execution_count": null,
   "source": [
    "longest_name = None\r\n",
    "max_count = 0\r\n",
    "for i in range(len(names)):\r\n",
    "  count = counts[i]\r\n",
    "  if count > max_count:\r\n",
    "    longest_name = names[i]\r\n",
    "    max_count = count\r\n",
    "print(longest_name)"
   ],
   "outputs": [
    {
     "output_type": "stream",
     "name": "stdout",
     "text": [
      "Cecilia\n"
     ]
    }
   ],
   "metadata": {}
  },
  {
   "cell_type": "code",
   "execution_count": null,
   "source": [
    "for i, name in enumerate(names):\r\n",
    "  count = counts[i]\r\n",
    "  if count > max_count:\r\n",
    "    longest_name = name\r\n",
    "    max_count = count\r\n",
    "print(longest_name)"
   ],
   "outputs": [
    {
     "output_type": "stream",
     "name": "stdout",
     "text": [
      "Cecilia\n"
     ]
    }
   ],
   "metadata": {}
  },
  {
   "cell_type": "code",
   "execution_count": null,
   "source": [
    "# zipによる表現\r\n",
    "for name, count in zip(name, counts):\r\n",
    "  if count > max_count:\r\n",
    "    longest_name = name\r\n",
    "    max_letters = count\r\n",
    "print(longest_name)"
   ],
   "outputs": [
    {
     "output_type": "stream",
     "name": "stdout",
     "text": [
      "Cecilia\n"
     ]
    }
   ],
   "metadata": {}
  },
  {
   "cell_type": "code",
   "execution_count": null,
   "source": [
    "# zipの長さが違う場合の挙動→最短の入力の長さ分しかループしないのでRosalindは無視される\r\n",
    "names.append('Rosalind')\r\n",
    "for name, count in zip(names, counts):\r\n",
    "  print(name)"
   ],
   "outputs": [
    {
     "output_type": "stream",
     "name": "stdout",
     "text": [
      "Cecilia\n",
      "Lise\n",
      "Marie\n"
     ]
    }
   ],
   "metadata": {}
  },
  {
   "cell_type": "code",
   "execution_count": null,
   "source": [
    "# zip_longestを使えば最長の入力の長さ分ループしてくれる(短い分はNoneで埋められる)\r\n",
    "import itertools\r\n",
    "\r\n",
    "for name, count in itertools.zip_longest(names, counts):\r\n",
    "  print(f'{name}: {count}')"
   ],
   "outputs": [
    {
     "output_type": "stream",
     "name": "stdout",
     "text": [
      "Cecilia: 7\n",
      "Lise: 4\n",
      "Marie: 5\n",
      "Rosalind: None\n"
     ]
    }
   ],
   "metadata": {}
  },
  {
   "cell_type": "markdown",
   "source": [
    "## 項目9 forループとwhileループのあとのelseブロックは使わない\n",
    "ややこしいので、使わないほうが吉\n",
    "* 最後までループが終わると実行されbreakされると実行されなくなる\n",
    "  * ifのelseやtryのelseと比較して直感的でない"
   ],
   "metadata": {}
  },
  {
   "cell_type": "code",
   "execution_count": null,
   "source": [
    "# breakされなかったらelseブロックが実行される\r\n",
    "for i in range(3):\r\n",
    "  print('Loop', i)\r\n",
    "else:\r\n",
    "  print('Else block!!')"
   ],
   "outputs": [
    {
     "output_type": "stream",
     "name": "stdout",
     "text": [
      "Loop 0\n",
      "Loop 1\n",
      "Loop 2\n",
      "Else block!!\n"
     ]
    }
   ],
   "metadata": {}
  },
  {
   "cell_type": "code",
   "execution_count": null,
   "source": [
    "# 途中でbreakされるとelseブロックが実行されない\r\n",
    "for i in range(3):\r\n",
    "  print('Loop', i)\r\n",
    "  if i == 1:\r\n",
    "    break\r\n",
    "else:\r\n",
    "  print('Else block!!')"
   ],
   "outputs": [
    {
     "output_type": "stream",
     "name": "stdout",
     "text": [
      "Loop 0\n",
      "Loop 1\n"
     ]
    }
   ],
   "metadata": {}
  },
  {
   "cell_type": "code",
   "execution_count": null,
   "source": [
    "# 一度もループがない場合もelseは実行される\r\n",
    "for x in []:\r\n",
    "    print('Never run')\r\n",
    "else:\r\n",
    "    print('For Else block!!')"
   ],
   "outputs": [
    {
     "output_type": "stream",
     "name": "stdout",
     "text": [
      "For Else block!!\n"
     ]
    }
   ],
   "metadata": {}
  },
  {
   "cell_type": "code",
   "execution_count": null,
   "source": [
    "# whileがFalseのときも実行される\r\n",
    "while False:\r\n",
    "    print('Never runs!')\r\n",
    "else:\r\n",
    "    print('While Else block!!!')"
   ],
   "outputs": [
    {
     "output_type": "stream",
     "name": "stdout",
     "text": [
      "While Else block!!!\n"
     ]
    }
   ],
   "metadata": {}
  },
  {
   "cell_type": "code",
   "execution_count": null,
   "source": [
    "# Elseの使いよう（互いに素（公約数がない）であるかチェックするプログラム）\r\n",
    "# 互いに素であればbreakされないので、elseが実行される\r\n",
    "a = 4\r\n",
    "b = 9\r\n",
    "for i in range(2, min(a,b) + 1):\r\n",
    "    print('Testing', i)\r\n",
    "    if a % i == 0 and b % i == 0:\r\n",
    "        print('Not coprime')\r\n",
    "        break\r\n",
    "else:\r\n",
    "    print('Coprime')"
   ],
   "outputs": [
    {
     "output_type": "stream",
     "name": "stdout",
     "text": [
      "Testing 2\n",
      "Testing 3\n",
      "Testing 4\n",
      "Coprime\n"
     ]
    }
   ],
   "metadata": {}
  },
  {
   "cell_type": "code",
   "execution_count": null,
   "source": [
    "# 関数化してreturnすればいい\r\n",
    "def coprime(a, b):\r\n",
    "    for i in range(2, min(a,b) + 1):\r\n",
    "        if a % i == 0 and b % i == 0:\r\n",
    "            return False\r\n",
    "    return True \r\n",
    "\r\n",
    "assert coprime(4, 9)\r\n",
    "assert not coprime(3, 6)"
   ],
   "outputs": [],
   "metadata": {}
  },
  {
   "cell_type": "code",
   "execution_count": null,
   "source": [
    "# または変数を用意してbreakすればよい、いずれにしてもElseを使う必要はない\r\n",
    "def coprime2(a, b):\r\n",
    "    is_coprime = True\r\n",
    "    for i in range(2, min(a,b) + 1):\r\n",
    "        if a % i == 0 and b % i == 0:\r\n",
    "            is_coprime = False\r\n",
    "            break\r\n",
    "    return is_coprime\r\n",
    "\r\n",
    "assert coprime(4, 9)\r\n",
    "assert not coprime(3, 6)"
   ],
   "outputs": [],
   "metadata": {}
  },
  {
   "cell_type": "markdown",
   "source": [
    "## 項目10 代入式で繰り返しを防ぐ\r\n",
    "\r\n",
    "* Python3.8からの新機能で繰り返しを防ぐ\r\n",
    "  * ウォルラス演算子"
   ],
   "metadata": {}
  },
  {
   "cell_type": "code",
   "execution_count": null,
   "source": [
    "# フルーツの残量を示す変数\r\n",
    "fresh_fruit = {\r\n",
    "    'apple': 10,\r\n",
    "    'banana': 8,\r\n",
    "    'lemon': 5,\r\n",
    "}"
   ],
   "outputs": [],
   "metadata": {}
  },
  {
   "cell_type": "code",
   "execution_count": null,
   "source": [
    "# if文でしか使わないcountを必要以上のスコープで定義している\r\n",
    "def make_lemonade(count):\r\n",
    "    pass\r\n",
    "\r\n",
    "def out_of_stock():\r\n",
    "    pass\r\n",
    "\r\n",
    "count = fresh_fruit.get('lemon', 0)\r\n",
    "if count:\r\n",
    "    make_lemonade(count)\r\n",
    "else:\r\n",
    "    out_of_stock()"
   ],
   "outputs": [],
   "metadata": {}
  },
  {
   "cell_type": "code",
   "execution_count": null,
   "source": [
    "# 解決法\r\n",
    "# これまで同じように書くと \r\n",
    "if count := fresh_fruit.get('lemon', 0):\r\n",
    "    make_lemonade(count)\r\n",
    "else:\r\n",
    "    out_of_stock()"
   ],
   "outputs": [],
   "metadata": {}
  },
  {
   "cell_type": "code",
   "execution_count": null,
   "source": [
    "# バナナをスライスし、スムージーを作る作業をコード化\r\n",
    "def slice_bananas(count):\r\n",
    "    pass\r\n",
    "\r\n",
    "class OutOfBananas(Exception):\r\n",
    "    pass\r\n",
    "\r\n",
    "def make_smoothies(count):\r\n",
    "    pass\r\n",
    "\r\n",
    "pieces = 0\r\n",
    "count = fresh_fruit.get('banana', 0)\r\n",
    "if count >= 2:\r\n",
    "    pieces = slice_bananas(count)\r\n",
    "\r\n",
    "try:\r\n",
    "    smoothies = make_smoothies(pieces)\r\n",
    "except OutOfBananas:\r\n",
    "    out_of_stock()"
   ],
   "outputs": [],
   "metadata": {}
  },
  {
   "cell_type": "code",
   "execution_count": null,
   "source": [
    "# elseを使えばpiecesに必ず値が入るので、最初に記述しなくていい（追いやすい）\r\n",
    "count = fresh_fruit.get('banana', 0)\r\n",
    "if count >= 2:\r\n",
    "    pieces = slice_bananas(count)\r\n",
    "else:\r\n",
    "    pieces = 0\r\n",
    "\r\n",
    "try:\r\n",
    "    smoothies = make_smoothies(pieces)\r\n",
    "except OutOfBananas:\r\n",
    "    out_of_stock()"
   ],
   "outputs": [],
   "metadata": {}
  },
  {
   "cell_type": "code",
   "execution_count": null,
   "source": [
    "# 代入式でcountの冗長をへらす\r\n",
    "pieces = 0\r\n",
    "if (count := fresh_fruit.get('banana', 0)) >= 2:\r\n",
    "    pieces = slice_bananas(count)\r\n",
    "\r\n",
    "try:\r\n",
    "    smoothies = make_smoothies(pieces)\r\n",
    "except OutOfBananas:\r\n",
    "    out_of_stock()\r\n"
   ],
   "outputs": [],
   "metadata": {}
  },
  {
   "cell_type": "code",
   "execution_count": null,
   "source": [
    "\r\n",
    "# 代入式＋pieceをelseに移行\r\n",
    "if (count := fresh_fruit.get('banana', 0)) >= 2:\r\n",
    "    pieces = slice_bananas(count)\r\n",
    "else:\r\n",
    "    pieces = 0\r\n",
    "\r\n",
    "try:\r\n",
    "    smoothies = make_smoothies(pieces)\r\n",
    "except OutOfBananas:\r\n",
    "    out_of_stock()"
   ],
   "outputs": [],
   "metadata": {}
  },
  {
   "cell_type": "code",
   "execution_count": null,
   "source": [
    "def make_cider(count):\r\n",
    "    pass\r\n",
    "\r\n",
    "# Switch文がないので、if elseを使う例（冗長になってしまう例）\r\n",
    "count = fresh_fruit.get('banana', 0)\r\n",
    "if count >= 2:\r\n",
    "    pieces = slice_bananas(count)\r\n",
    "    to_enjoy = make_smoothies(pieces)\r\n",
    "else:\r\n",
    "    count = fresh_fruit.get('apple', 0)\r\n",
    "    if count >= 4:\r\n",
    "        to_enjoy = make_cider(count)\r\n",
    "    else:\r\n",
    "        count = fresh_fruit.get('lemon', 0)\r\n",
    "        if count:\r\n",
    "            to_enjoy = make_lemonade(count)\r\n",
    "        else:\r\n",
    "            to_enjoy = 'Nothing'"
   ],
   "outputs": [],
   "metadata": {}
  },
  {
   "cell_type": "code",
   "execution_count": null,
   "source": [
    "# walrus演算子ではswitchっぽく書けるしインデントも減らせる\r\n",
    "# インデントを減らさないで直接ifの中に関数をいれることもできるだろうけど、countを使い回せないのでifの中で呼び直す必要がある\r\n",
    "if (count := fresh_fruit.get('banana', 0)) >= 2:\r\n",
    "    pieces = slice_bananas(count)\r\n",
    "    to_enjoy = make_smoothies(pieces)\r\n",
    "elif (count := fresh_fruit.get('apple', 0)) >= 4:\r\n",
    "    to_enjoy = make_cider(count)\r\n",
    "elif count := fresh_fruit.get('lemon', 0):\r\n",
    "    to_enjoy = make_lemonade(count)\r\n",
    "else:\r\n",
    "    to_enjoy = 'Nothing'"
   ],
   "outputs": [],
   "metadata": {}
  },
  {
   "cell_type": "code",
   "execution_count": null,
   "source": [
    "# do-whileの例（Pythonにはdo-whileがない）\r\n",
    "# doに当たる部分をwhile前に実行する必要がある（この場合fresh_fruit = pick_fruit())\r\n",
    "fruits = [\r\n",
    "    {'apple': 10},\r\n",
    "    {'banana': 8},\r\n",
    "    {'lemon': 5},\r\n",
    "]\r\n",
    "def pick_fruit():\r\n",
    "    if fruits:\r\n",
    "        return fruits.pop()\r\n",
    "    else:\r\n",
    "        return  None\r\n",
    "\r\n",
    "def make_juice(fruit, count):\r\n",
    "    return []\r\n",
    "\r\n",
    "bottles = []\r\n",
    "fresh_fruit = pick_fruit()\r\n",
    "while fresh_fruit:\r\n",
    "    for fruit, count in fresh_fruit.items():\r\n",
    "        batch = make_juice(fruit, count)\r\n",
    "        bottles.extend(batch)\r\n",
    "    fresh_fruit = pick_fruit()"
   ],
   "outputs": [],
   "metadata": {}
  },
  {
   "cell_type": "code",
   "execution_count": null,
   "source": [
    "# 解決法１：breakで終わらせる方法（loop-and-a-half）\r\n",
    "# fresh_fruit = pick_fruit()の重複は防げる\r\n",
    "fruits = [\r\n",
    "    {'apple': 10},\r\n",
    "    {'banana': 8},\r\n",
    "    {'lemon': 5},\r\n",
    "]\r\n",
    "\r\n",
    "bottles = []\r\n",
    "while True:\r\n",
    "    fresh_fruit = pick_fruit()\r\n",
    "    if not fresh_fruit:\r\n",
    "        break\r\n",
    "    else:\r\n",
    "        for fruit, count in fresh_fruit.items():\r\n",
    "            batch = make_juice(fruit, count)\r\n",
    "            bottles.extend(batch)"
   ],
   "outputs": [],
   "metadata": {}
  },
  {
   "cell_type": "code",
   "execution_count": null,
   "source": [
    "# 解決法2：walrus演算子により条件文部分で計算する\r\n",
    "fruits = [\r\n",
    "    {'apple': 10},\r\n",
    "    {'banana': 8},\r\n",
    "    {'lemon': 5},\r\n",
    "]\r\n",
    "bottles = []\r\n",
    "while fresh_fruit := pick_fruit():\r\n",
    "    for fruit, count in fresh_fruit.items():\r\n",
    "        batch = make_juice(fruit, count)\r\n",
    "        bottles.extend(batch)"
   ],
   "outputs": [],
   "metadata": {}
  }
 ],
 "metadata": {
  "orig_nbformat": 4,
  "language_info": {
   "name": "python",
   "version": "3.8.5",
   "mimetype": "text/x-python",
   "codemirror_mode": {
    "name": "ipython",
    "version": 3
   },
   "pygments_lexer": "ipython3",
   "nbconvert_exporter": "python",
   "file_extension": ".py"
  },
  "kernelspec": {
   "name": "python3",
   "display_name": "Python 3.8.5 64-bit"
  },
  "interpreter": {
   "hash": "d83dbcc7646c70cde7bb50469f08ead150ddfa1080a7fca0fcb71d2335734441"
  }
 },
 "nbformat": 4,
 "nbformat_minor": 2
}